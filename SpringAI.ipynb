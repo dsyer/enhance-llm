{
 "cells": [
  {
   "cell_type": "markdown",
   "metadata": {},
   "source": [
    "Make sure Python and Jupyter are set up locally first (and if necessary relaunch VSCode). There is a `shell.nix` that does this for you if you have Nix installed, but it won't work with some of the Spring AI library dependencies (the ones that have native code extensions), so it's better to use a virtual env created from the global Python.\n",
    "\n",
    "```bash\n",
    "$ python3 -m venv .venv\n",
    "$ . .venv/bin/activate\n",
    "$ pip install jupyter ipykernel notebook\n",
    "```\n",
    "\n",
    "Then, select the Python interpreter in the top right corner of the VSCode editor - it should be `java (Rapaio/j!)`. If that is not available, install it with `jbang install-kernel@jupyter-java rapaio`. Make sure to get the latest version of `jbang` and also edit the `kernel.json` file in `~/.local/share/jupyter/kernels` to upgrade to version 2.0.0 and Java 22.\n",
    "\n",
    "```json\n",
    "{\n",
    "  \"argv\" : [\n",
    "    \"/home/dsyer/.sdkman/candidates/jbang/current/bin/jbang\",\n",
    "    \"--java\",\n",
    "    \"22\",\n",
    "...\n",
    "    \"io.github.padreati:rapaio-jupyter-kernel:2.0.0@fatjar\",\n",
    "    \"{connection_file}\"\n",
    "  ],\n",
    "...\n",
    "}\n",
    "```"
   ]
  },
  {
   "cell_type": "code",
   "execution_count": 1,
   "metadata": {},
   "outputs": [
    {
     "name": "stdout",
     "output_type": "stream",
     "text": [
      "\u001b[0mRepository \u001b[1m\u001b[32mlocal\u001b[0m url: \u001b[1m\u001b[32mfile:///home/dsyer/.m2/repository/\u001b[0m added.\u001b[0mRepositories count: 5\n",
      "\u001b[0mname: \u001b[1m\u001b[32mcentral, \u001b[0murl: \u001b[1m\u001b[32mhttps://repo.maven.apache.org/maven2/\n",
      "\u001b[0m\u001b[0mname: \u001b[1m\u001b[32mjcenter, \u001b[0murl: \u001b[1m\u001b[32mhttps://jcenter.bintray.com/\n",
      "\u001b[0m\u001b[0mname: \u001b[1m\u001b[32mjboss, \u001b[0murl: \u001b[1m\u001b[32mhttps://repository.jboss.org/nexus/content/repositories/releases/\n",
      "\u001b[0m\u001b[0mname: \u001b[1m\u001b[32matlassian, \u001b[0murl: \u001b[1m\u001b[32mhttps://packages.atlassian.com/maven/public\n",
      "\u001b[0m\u001b[0mname: \u001b[1m\u001b[32mlocal, \u001b[0murl: \u001b[1m\u001b[32mfile:///home/dsyer/.m2/repository/\n",
      "\u001b[0m"
     ]
    }
   ],
   "source": [
    "%dependency /add-repo local file:///home/dsyer/.m2/repository/\n",
    "%dependency /list-repos"
   ]
  },
  {
   "cell_type": "code",
   "execution_count": 2,
   "metadata": {},
   "outputs": [
    {
     "name": "stdout",
     "output_type": "stream",
     "text": [
      "Adding dependency \u001b[0m\u001b[1m\u001b[32mcom.example:demo:0.0.1\u001b[0m\u001b[0m\n",
      "Solving dependencies\n",
      "Found dependencies count: 68\n",
      "Add to classpath: \u001b[0m\u001b[32m/home/dsyer/.m2/repository/io/github/padreati/rapaio-jupyter-kernel/2.0.0/mima_cache/com/example/demo/0.0.1/demo-0.0.1.jar\u001b[0m\u001b[0m\n",
      "Add to classpath: \u001b[0m\u001b[32m/home/dsyer/.m2/repository/io/github/padreati/rapaio-jupyter-kernel/2.0.0/mima_cache/org/springframework/ai/spring-ai-chroma-store-spring-boot-starter/1.0.0-M1/spring-ai-chroma-store-spring-boot-starter-1.0.0-M1.jar\u001b[0m\u001b[0m\n",
      "Add to classpath: \u001b[0m\u001b[32m/home/dsyer/.m2/repository/io/github/padreati/rapaio-jupyter-kernel/2.0.0/mima_cache/org/springframework/boot/spring-boot-starter/3.3.0/spring-boot-starter-3.3.0.jar\u001b[0m\u001b[0m\n",
      "Add to classpath: \u001b[0m\u001b[32m/home/dsyer/.m2/repository/io/github/padreati/rapaio-jupyter-kernel/2.0.0/mima_cache/org/springframework/boot/spring-boot/3.3.0/spring-boot-3.3.0.jar\u001b[0m\u001b[0m\n",
      "Add to classpath: \u001b[0m\u001b[32m/home/dsyer/.m2/repository/io/github/padreati/rapaio-jupyter-kernel/2.0.0/mima_cache/org/springframework/spring-context/6.1.8/spring-context-6.1.8.jar\u001b[0m\u001b[0m\n",
      "Add to classpath: \u001b[0m\u001b[32m/home/dsyer/.m2/repository/io/github/padreati/rapaio-jupyter-kernel/2.0.0/mima_cache/org/springframework/spring-aop/6.1.8/spring-aop-6.1.8.jar\u001b[0m\u001b[0m\n",
      "Add to classpath: \u001b[0m\u001b[32m/home/dsyer/.m2/repository/io/github/padreati/rapaio-jupyter-kernel/2.0.0/mima_cache/org/springframework/spring-expression/6.1.8/spring-expression-6.1.8.jar\u001b[0m\u001b[0m\n",
      "Add to classpath: \u001b[0m\u001b[32m/home/dsyer/.m2/repository/io/github/padreati/rapaio-jupyter-kernel/2.0.0/mima_cache/org/springframework/boot/spring-boot-autoconfigure/3.3.0/spring-boot-autoconfigure-3.3.0.jar\u001b[0m\u001b[0m\n",
      "Add to classpath: \u001b[0m\u001b[32m/home/dsyer/.m2/repository/io/github/padreati/rapaio-jupyter-kernel/2.0.0/mima_cache/org/springframework/boot/spring-boot-starter-logging/3.3.0/spring-boot-starter-logging-3.3.0.jar\u001b[0m\u001b[0m\n",
      "Add to classpath: \u001b[0m\u001b[32m/home/dsyer/.m2/repository/io/github/padreati/rapaio-jupyter-kernel/2.0.0/mima_cache/ch/qos/logback/logback-classic/1.5.6/logback-classic-1.5.6.jar\u001b[0m\u001b[0m\n",
      "Add to classpath: \u001b[0m\u001b[32m/home/dsyer/.m2/repository/io/github/padreati/rapaio-jupyter-kernel/2.0.0/mima_cache/ch/qos/logback/logback-core/1.5.6/logback-core-1.5.6.jar\u001b[0m\u001b[0m\n",
      "Add to classpath: \u001b[0m\u001b[32m/home/dsyer/.m2/repository/io/github/padreati/rapaio-jupyter-kernel/2.0.0/mima_cache/org/apache/logging/log4j/log4j-to-slf4j/2.23.1/log4j-to-slf4j-2.23.1.jar\u001b[0m\u001b[0m\n",
      "Add to classpath: \u001b[0m\u001b[32m/home/dsyer/.m2/repository/io/github/padreati/rapaio-jupyter-kernel/2.0.0/mima_cache/org/apache/logging/log4j/log4j-api/2.23.1/log4j-api-2.23.1.jar\u001b[0m\u001b[0m\n",
      "Add to classpath: \u001b[0m\u001b[32m/home/dsyer/.m2/repository/io/github/padreati/rapaio-jupyter-kernel/2.0.0/mima_cache/org/slf4j/jul-to-slf4j/2.0.13/jul-to-slf4j-2.0.13.jar\u001b[0m\u001b[0m\n",
      "Add to classpath: \u001b[0m\u001b[32m/home/dsyer/.m2/repository/io/github/padreati/rapaio-jupyter-kernel/2.0.0/mima_cache/jakarta/annotation/jakarta.annotation-api/2.1.1/jakarta.annotation-api-2.1.1.jar\u001b[0m\u001b[0m\n",
      "Add to classpath: \u001b[0m\u001b[32m/home/dsyer/.m2/repository/io/github/padreati/rapaio-jupyter-kernel/2.0.0/mima_cache/org/springframework/spring-core/6.1.8/spring-core-6.1.8.jar\u001b[0m\u001b[0m\n",
      "Add to classpath: \u001b[0m\u001b[32m/home/dsyer/.m2/repository/io/github/padreati/rapaio-jupyter-kernel/2.0.0/mima_cache/org/springframework/spring-jcl/6.1.8/spring-jcl-6.1.8.jar\u001b[0m\u001b[0m\n",
      "Add to classpath: \u001b[0m\u001b[32m/home/dsyer/.m2/repository/io/github/padreati/rapaio-jupyter-kernel/2.0.0/mima_cache/org/yaml/snakeyaml/2.2/snakeyaml-2.2.jar\u001b[0m\u001b[0m\n",
      "Add to classpath: \u001b[0m\u001b[32m/home/dsyer/.m2/repository/io/github/padreati/rapaio-jupyter-kernel/2.0.0/mima_cache/org/springframework/ai/spring-ai-spring-boot-autoconfigure/1.0.0-M1/spring-ai-spring-boot-autoconfigure-1.0.0-M1.jar\u001b[0m\u001b[0m\n",
      "Add to classpath: \u001b[0m\u001b[32m/home/dsyer/.m2/repository/io/github/padreati/rapaio-jupyter-kernel/2.0.0/mima_cache/com/google/protobuf/protobuf-java/3.25.2/protobuf-java-3.25.2.jar\u001b[0m\u001b[0m\n",
      "Add to classpath: \u001b[0m\u001b[32m/home/dsyer/.m2/repository/io/github/padreati/rapaio-jupyter-kernel/2.0.0/mima_cache/io/netty/netty-codec-http2/4.1.100.Final/netty-codec-http2-4.1.100.Final.jar\u001b[0m\u001b[0m\n",
      "Add to classpath: \u001b[0m\u001b[32m/home/dsyer/.m2/repository/io/github/padreati/rapaio-jupyter-kernel/2.0.0/mima_cache/io/netty/netty-common/4.1.100.Final/netty-common-4.1.100.Final.jar\u001b[0m\u001b[0m\n",
      "Add to classpath: \u001b[0m\u001b[32m/home/dsyer/.m2/repository/io/github/padreati/rapaio-jupyter-kernel/2.0.0/mima_cache/io/netty/netty-buffer/4.1.100.Final/netty-buffer-4.1.100.Final.jar\u001b[0m\u001b[0m\n",
      "Add to classpath: \u001b[0m\u001b[32m/home/dsyer/.m2/repository/io/github/padreati/rapaio-jupyter-kernel/2.0.0/mima_cache/io/netty/netty-transport/4.1.100.Final/netty-transport-4.1.100.Final.jar\u001b[0m\u001b[0m\n",
      "Add to classpath: \u001b[0m\u001b[32m/home/dsyer/.m2/repository/io/github/padreati/rapaio-jupyter-kernel/2.0.0/mima_cache/io/netty/netty-resolver/4.1.100.Final/netty-resolver-4.1.100.Final.jar\u001b[0m\u001b[0m\n",
      "Add to classpath: \u001b[0m\u001b[32m/home/dsyer/.m2/repository/io/github/padreati/rapaio-jupyter-kernel/2.0.0/mima_cache/io/netty/netty-codec/4.1.100.Final/netty-codec-4.1.100.Final.jar\u001b[0m\u001b[0m\n",
      "Add to classpath: \u001b[0m\u001b[32m/home/dsyer/.m2/repository/io/github/padreati/rapaio-jupyter-kernel/2.0.0/mima_cache/io/netty/netty-handler/4.1.100.Final/netty-handler-4.1.100.Final.jar\u001b[0m\u001b[0m\n",
      "Add to classpath: \u001b[0m\u001b[32m/home/dsyer/.m2/repository/io/github/padreati/rapaio-jupyter-kernel/2.0.0/mima_cache/io/netty/netty-transport-native-unix-common/4.1.100.Final/netty-transport-native-unix-common-4.1.100.Final.jar\u001b[0m\u001b[0m\n",
      "Add to classpath: \u001b[0m\u001b[32m/home/dsyer/.m2/repository/io/github/padreati/rapaio-jupyter-kernel/2.0.0/mima_cache/io/netty/netty-codec-http/4.1.100.Final/netty-codec-http-4.1.100.Final.jar\u001b[0m\u001b[0m\n",
      "Add to classpath: \u001b[0m\u001b[32m/home/dsyer/.m2/repository/io/github/padreati/rapaio-jupyter-kernel/2.0.0/mima_cache/redis/clients/jedis/5.1.0/jedis-5.1.0.jar\u001b[0m\u001b[0m\n",
      "Add to classpath: \u001b[0m\u001b[32m/home/dsyer/.m2/repository/io/github/padreati/rapaio-jupyter-kernel/2.0.0/mima_cache/org/slf4j/slf4j-api/1.7.36/slf4j-api-1.7.36.jar\u001b[0m\u001b[0m\n",
      "Add to classpath: \u001b[0m\u001b[32m/home/dsyer/.m2/repository/io/github/padreati/rapaio-jupyter-kernel/2.0.0/mima_cache/org/apache/commons/commons-pool2/2.12.0/commons-pool2-2.12.0.jar\u001b[0m\u001b[0m\n",
      "Add to classpath: \u001b[0m\u001b[32m/home/dsyer/.m2/repository/io/github/padreati/rapaio-jupyter-kernel/2.0.0/mima_cache/org/json/json/20231013/json-20231013.jar\u001b[0m\u001b[0m\n",
      "Add to classpath: \u001b[0m\u001b[32m/home/dsyer/.m2/repository/io/github/padreati/rapaio-jupyter-kernel/2.0.0/mima_cache/com/google/code/gson/gson/2.10.1/gson-2.10.1.jar\u001b[0m\u001b[0m\n",
      "Add to classpath: \u001b[0m\u001b[32m/home/dsyer/.m2/repository/io/github/padreati/rapaio-jupyter-kernel/2.0.0/mima_cache/org/springframework/ai/spring-ai-chroma-store/1.0.0-M1/spring-ai-chroma-store-1.0.0-M1.jar\u001b[0m\u001b[0m\n",
      "Add to classpath: \u001b[0m\u001b[32m/home/dsyer/.m2/repository/io/github/padreati/rapaio-jupyter-kernel/2.0.0/mima_cache/org/springframework/ai/spring-ai-core/1.0.0-M1/spring-ai-core-1.0.0-M1.jar\u001b[0m\u001b[0m\n",
      "Add to classpath: \u001b[0m\u001b[32m/home/dsyer/.m2/repository/io/github/padreati/rapaio-jupyter-kernel/2.0.0/mima_cache/io/swagger/core/v3/swagger-annotations/2.2.20/swagger-annotations-2.2.20.jar\u001b[0m\u001b[0m\n",
      "Add to classpath: \u001b[0m\u001b[32m/home/dsyer/.m2/repository/io/github/padreati/rapaio-jupyter-kernel/2.0.0/mima_cache/com/github/victools/jsonschema-module-swagger-2/4.35.0/jsonschema-module-swagger-2-4.35.0.jar\u001b[0m\u001b[0m\n",
      "Add to classpath: \u001b[0m\u001b[32m/home/dsyer/.m2/repository/io/github/padreati/rapaio-jupyter-kernel/2.0.0/mima_cache/org/springframework/cloud/spring-cloud-function-context/4.1.1/spring-cloud-function-context-4.1.1.jar\u001b[0m\u001b[0m\n",
      "Add to classpath: \u001b[0m\u001b[32m/home/dsyer/.m2/repository/io/github/padreati/rapaio-jupyter-kernel/2.0.0/mima_cache/net/jodah/typetools/0.6.2/typetools-0.6.2.jar\u001b[0m\u001b[0m\n",
      "Add to classpath: \u001b[0m\u001b[32m/home/dsyer/.m2/repository/io/github/padreati/rapaio-jupyter-kernel/2.0.0/mima_cache/org/springframework/cloud/spring-cloud-function-core/4.1.1/spring-cloud-function-core-4.1.1.jar\u001b[0m\u001b[0m\n",
      "Add to classpath: \u001b[0m\u001b[32m/home/dsyer/.m2/repository/io/github/padreati/rapaio-jupyter-kernel/2.0.0/mima_cache/org/antlr/stringtemplate/4.0.2/stringtemplate-4.0.2.jar\u001b[0m\u001b[0m\n",
      "Add to classpath: \u001b[0m\u001b[32m/home/dsyer/.m2/repository/io/github/padreati/rapaio-jupyter-kernel/2.0.0/mima_cache/org/antlr/antlr-runtime/3.3/antlr-runtime-3.3.jar\u001b[0m\u001b[0m\n",
      "Add to classpath: \u001b[0m\u001b[32m/home/dsyer/.m2/repository/io/github/padreati/rapaio-jupyter-kernel/2.0.0/mima_cache/org/antlr/antlr4-runtime/4.13.1/antlr4-runtime-4.13.1.jar\u001b[0m\u001b[0m\n",
      "Add to classpath: \u001b[0m\u001b[32m/home/dsyer/.m2/repository/io/github/padreati/rapaio-jupyter-kernel/2.0.0/mima_cache/io/projectreactor/reactor-core/3.6.6/reactor-core-3.6.6.jar\u001b[0m\u001b[0m\n",
      "Add to classpath: \u001b[0m\u001b[32m/home/dsyer/.m2/repository/io/github/padreati/rapaio-jupyter-kernel/2.0.0/mima_cache/org/reactivestreams/reactive-streams/1.0.4/reactive-streams-1.0.4.jar\u001b[0m\u001b[0m\n",
      "Add to classpath: \u001b[0m\u001b[32m/home/dsyer/.m2/repository/io/github/padreati/rapaio-jupyter-kernel/2.0.0/mima_cache/org/springframework/spring-messaging/6.1.8/spring-messaging-6.1.8.jar\u001b[0m\u001b[0m\n",
      "Add to classpath: \u001b[0m\u001b[32m/home/dsyer/.m2/repository/io/github/padreati/rapaio-jupyter-kernel/2.0.0/mima_cache/com/knuddels/jtokkit/1.0.0/jtokkit-1.0.0.jar\u001b[0m\u001b[0m\n",
      "Add to classpath: \u001b[0m\u001b[32m/home/dsyer/.m2/repository/io/github/padreati/rapaio-jupyter-kernel/2.0.0/mima_cache/com/github/victools/jsonschema-generator/4.35.0/jsonschema-generator-4.35.0.jar\u001b[0m\u001b[0m\n",
      "Add to classpath: \u001b[0m\u001b[32m/home/dsyer/.m2/repository/io/github/padreati/rapaio-jupyter-kernel/2.0.0/mima_cache/com/fasterxml/classmate/1.5.1/classmate-1.5.1.jar\u001b[0m\u001b[0m\n",
      "Add to classpath: \u001b[0m\u001b[32m/home/dsyer/.m2/repository/io/github/padreati/rapaio-jupyter-kernel/2.0.0/mima_cache/com/fasterxml/jackson/core/jackson-core/2.14.2/jackson-core-2.14.2.jar\u001b[0m\u001b[0m\n",
      "Add to classpath: \u001b[0m\u001b[32m/home/dsyer/.m2/repository/io/github/padreati/rapaio-jupyter-kernel/2.0.0/mima_cache/com/github/victools/jsonschema-module-jackson/4.35.0/jsonschema-module-jackson-4.35.0.jar\u001b[0m\u001b[0m\n",
      "Add to classpath: \u001b[0m\u001b[32m/home/dsyer/.m2/repository/io/github/padreati/rapaio-jupyter-kernel/2.0.0/mima_cache/com/fasterxml/jackson/core/jackson-databind/2.16.1/jackson-databind-2.16.1.jar\u001b[0m\u001b[0m\n",
      "Add to classpath: \u001b[0m\u001b[32m/home/dsyer/.m2/repository/io/github/padreati/rapaio-jupyter-kernel/2.0.0/mima_cache/com/fasterxml/jackson/core/jackson-annotations/2.16.1/jackson-annotations-2.16.1.jar\u001b[0m\u001b[0m\n",
      "Add to classpath: \u001b[0m\u001b[32m/home/dsyer/.m2/repository/io/github/padreati/rapaio-jupyter-kernel/2.0.0/mima_cache/com/fasterxml/jackson/datatype/jackson-datatype-jsr310/2.16.1/jackson-datatype-jsr310-2.16.1.jar\u001b[0m\u001b[0m\n",
      "Add to classpath: \u001b[0m\u001b[32m/home/dsyer/.m2/repository/io/github/padreati/rapaio-jupyter-kernel/2.0.0/mima_cache/org/springframework/spring-web/6.1.8/spring-web-6.1.8.jar\u001b[0m\u001b[0m\n",
      "Add to classpath: \u001b[0m\u001b[32m/home/dsyer/.m2/repository/io/github/padreati/rapaio-jupyter-kernel/2.0.0/mima_cache/org/springframework/spring-beans/6.1.8/spring-beans-6.1.8.jar\u001b[0m\u001b[0m\n",
      "Add to classpath: \u001b[0m\u001b[32m/home/dsyer/.m2/repository/io/github/padreati/rapaio-jupyter-kernel/2.0.0/mima_cache/io/micrometer/micrometer-observation/1.12.6/micrometer-observation-1.12.6.jar\u001b[0m\u001b[0m\n",
      "Add to classpath: \u001b[0m\u001b[32m/home/dsyer/.m2/repository/io/github/padreati/rapaio-jupyter-kernel/2.0.0/mima_cache/io/micrometer/micrometer-commons/1.12.6/micrometer-commons-1.12.6.jar\u001b[0m\u001b[0m\n",
      "Add to classpath: \u001b[0m\u001b[32m/home/dsyer/.m2/repository/io/github/padreati/rapaio-jupyter-kernel/2.0.0/mima_cache/org/springframework/ai/spring-ai-transformers-spring-boot-starter/1.0.0-M1/spring-ai-transformers-spring-boot-starter-1.0.0-M1.jar\u001b[0m\u001b[0m\n",
      "Add to classpath: \u001b[0m\u001b[32m/home/dsyer/.m2/repository/io/github/padreati/rapaio-jupyter-kernel/2.0.0/mima_cache/org/springframework/ai/spring-ai-transformers/1.0.0-M1/spring-ai-transformers-1.0.0-M1.jar\u001b[0m\u001b[0m\n",
      "Add to classpath: \u001b[0m\u001b[32m/home/dsyer/.m2/repository/io/github/padreati/rapaio-jupyter-kernel/2.0.0/mima_cache/com/microsoft/onnxruntime/onnxruntime/1.17.0/onnxruntime-1.17.0.jar\u001b[0m\u001b[0m\n",
      "Add to classpath: \u001b[0m\u001b[32m/home/dsyer/.m2/repository/io/github/padreati/rapaio-jupyter-kernel/2.0.0/mima_cache/ai/djl/pytorch/pytorch-engine/0.26.0/pytorch-engine-0.26.0.jar\u001b[0m\u001b[0m\n",
      "Add to classpath: \u001b[0m\u001b[32m/home/dsyer/.m2/repository/io/github/padreati/rapaio-jupyter-kernel/2.0.0/mima_cache/ai/djl/api/0.26.0/api-0.26.0.jar\u001b[0m\u001b[0m\n",
      "Add to classpath: \u001b[0m\u001b[32m/home/dsyer/.m2/repository/io/github/padreati/rapaio-jupyter-kernel/2.0.0/mima_cache/net/java/dev/jna/jna/5.13.0/jna-5.13.0.jar\u001b[0m\u001b[0m\n",
      "Add to classpath: \u001b[0m\u001b[32m/home/dsyer/.m2/repository/io/github/padreati/rapaio-jupyter-kernel/2.0.0/mima_cache/org/apache/commons/commons-compress/1.25.0/commons-compress-1.25.0.jar\u001b[0m\u001b[0m\n",
      "Add to classpath: \u001b[0m\u001b[32m/home/dsyer/.m2/repository/io/github/padreati/rapaio-jupyter-kernel/2.0.0/mima_cache/ai/djl/model-zoo/0.26.0/model-zoo-0.26.0.jar\u001b[0m\u001b[0m\n",
      "Add to classpath: \u001b[0m\u001b[32m/home/dsyer/.m2/repository/io/github/padreati/rapaio-jupyter-kernel/2.0.0/mima_cache/ai/djl/huggingface/tokenizers/0.26.0/tokenizers-0.26.0.jar\u001b[0m\u001b[0m\n"
     ]
    }
   ],
   "source": [
    "%dependency /add com.example:demo:0.0.1\n",
    "%dependency /resolve\n"
   ]
  },
  {
   "cell_type": "code",
   "execution_count": 3,
   "metadata": {},
   "outputs": [],
   "source": [
    "import org.springframework.boot.logging.*;\n",
    "// Make sure Spring Boot is using the Java Logging System not Logback\n",
    "System.setProperty(LoggingSystem.SYSTEM_PROPERTY, \"org.springframework.boot.logging.java.JavaLoggingSystem\");"
   ]
  },
  {
   "cell_type": "markdown",
   "metadata": {},
   "source": [
    "Run the vector store in the background:\n",
    "\n",
    "```bash\n",
    "$ docker run -it --rm --name chroma -p 8000:8000 ghcr.io/chroma-core/chroma:0.4.15\n",
    "```\n",
    "\n",
    "and then the app will be able to connect to it when it starts up."
   ]
  },
  {
   "cell_type": "code",
   "execution_count": 6,
   "metadata": {},
   "outputs": [
    {
     "name": "stdout",
     "output_type": "stream",
     "text": [
      "  .   ____          _            __ _ _\n",
      " /\\\\ / ___'_ __ _ _(_)_ __  __ _ \\ \\ \\ \\\n",
      "( ( )\\___ | '_ | '_| | '_ \\/ _` | \\ \\ \\ \\\n",
      " \\\\/  ___)| |_)| | | | | || (_| |  ) ) ) )\n",
      "  '  |____| .__|_| |_|_| |_\\__, | / / / /\n",
      " =========|_|==============|___/=/_/_/_/\n",
      "\n",
      " :: Spring Boot ::                (v3.3.0)\n",
      "\n"
     ]
    },
    {
     "name": "stderr",
     "output_type": "stream",
     "text": [
      "[Engine-thread-1] INFO org.springframework.boot.SpringApplication - Starting application using Java 22.0.2 with PID 1395924 (started by dsyer in /home/dsyer/dev/scratch/enhance-llm)\n",
      "[Engine-thread-1] INFO org.springframework.boot.SpringApplication - No active profile set, falling back to 1 default profile: \"default\"\n",
      "[Engine-thread-1] INFO org.springframework.ai.transformers.TransformersEmbeddingModel - Model input names: input_ids, attention_mask, token_type_ids\n",
      "[Engine-thread-1] INFO org.springframework.ai.transformers.TransformersEmbeddingModel - Model output names: last_hidden_state\n",
      "[Engine-thread-1] INFO org.springframework.boot.SpringApplication - Started application in 0.306 seconds (process running for 1000.631)\n"
     ]
    }
   ],
   "source": [
    "import org.springframework.boot.SpringApplication;\n",
    "import com.example.DemoApplication;\n",
    "var app = SpringApplication.run(DemoApplication.class, new String[] {});"
   ]
  },
  {
   "cell_type": "code",
   "execution_count": 8,
   "metadata": {},
   "outputs": [
    {
     "data": {
      "text/plain": [
       "[-0.19744634628295898, 0.17766514420509338, 0.03856987878680229, 0.14952196180820465, -0.2254205048084259, -0.9180281162261963, 0.3832637369632721, -0.03688889741897583, -0.271742045879364, 0.08452194929122925, 0.4058927297592163, 0.31799840927124023, 0.10991720110177994, -0.15033723413944244, -0.05789612978696823, -0.1542844921350479, 0.12775108218193054, -0.1272885799407959, -0.8572673797607422, -0.10017995536327362, 0.04396062344312668, 0.3112677335739136, 0.018637515604496002, 0.18168988823890686, -0.48461419343948364, -0.16840365529060364, 0.2954801917076111, 0.27559906244277954, -0.01898309588432312, -0.333755761384964, 0.2403516322374344, 0.12719734013080597, 0.734118640422821, -0.12793174386024475, -0.06675413250923157, 0.36038124561309814, -0.18827781081199646, -0.5224381685256958, -0.1785355806350708, 0.30180197954177856, 0.2693614363670349, -0.48221802711486816, -0.17212742567062378, -0.11880280822515488, 0.05450655519962311, -0.02131405845284462, 0.04205396771430969, 0.22520464658737183, 0.5341663956642151, -0.021696269512176514, -0.30204570293426514, -0.3324907422065735, -0.03931095451116562, 0.0302559994161129, 0.4747154116630554, 0.11088772118091583, 0.035990335047245026, -0.05916249752044678, 0.051727086305618286, -0.2158089578151703, -0.2588886022567749, 0.13753794133663177, -0.03976801037788391, 0.07726436853408813, 0.5730000734329224, -0.4105227589607239, -0.12424439191818237, 0.1810743659734726, -0.29570379853248596, -0.471020370721817, -0.37621575593948364, -0.05666939169168472, 0.03330932557582855, 0.42123571038246155, -0.195001021027565, 0.1425185650587082, 0.08297104388475418, 0.15151764452457428, 0.0553029403090477, 0.173050194978714, 0.3024001121520996, -0.43157458305358887, 0.05667975917458534, 0.17087097465991974, 0.10053783655166626, 0.1322440803050995, 0.011074811220169067, 0.00801859050989151, -0.2701700031757355, -0.06410890817642212, -0.6540141105651855, -0.11346001923084259, 0.230598583817482, 0.012559469789266586, -0.45695799589157104, -0.14536067843437195, 0.5410899519920349, -0.16597020626068115, -0.8304075002670288, 1.32277250289917, 0.1588120013475418, 0.18389733135700226, 0.17790502309799194, 0.245297372341156, 0.3678801655769348, 0.18419376015663147, -0.02792835235595703, 0.31898269057273865, -0.21494241058826447, -0.12315939366817474, -0.16231468319892883, -0.16520151495933533, 0.21964280307292938, -0.10004019737243652, 0.3005755543708801, -0.4288034439086914, -0.1790197193622589, 0.12508326768875122, -0.22847580909729004, -0.049176882952451706, 0.15437616407871246, -0.27772653102874756, 0.0656861662864685, 0.1696193516254425, -0.11781398206949234, 0.07504363358020782, 0.16512468457221985, -1.829268162298356E-32, 0.3709966242313385, -0.10382850468158722, 0.2965933084487915, 0.6985770463943481, 0.16481946408748627, 0.049949780106544495, -0.4038640856742859, -0.096825510263443, 0.23331063985824585, 0.24119281768798828, 0.1457321047782898, 0.20471298694610596, -0.28144487738609314, 0.012193173170089722, -0.08903294056653976, 0.29052650928497314, -0.27594947814941406, 0.20548322796821594, -0.02329087257385254, 0.5825620889663696, -0.3205312490463257, -0.06116896867752075, 0.06434585154056549, 0.5193479657173157, 0.024250000715255737, 0.20123416185379028, -0.05556666851043701, -0.5375519394874573, 0.5317701101303101, 0.04584304988384247, -0.04412800073623657, -0.29829293489456177, -0.07208937406539917, 0.018709197640419006, 0.03443843871355057, 0.04341884329915047, 0.06023041531443596, -0.49448806047439575, -0.4001854956150055, -0.014510873705148697, -0.5210089683532715, 0.2685166299343109, 0.2982342541217804, 0.041198328137397766, 0.06244358420372009, -0.029948711395263672, 0.07981736212968826, 0.1258094161748886, 0.19590741395950317, 0.3448977470397949, 6.679147481918335E-4, 0.08436786383390427, -0.4013901650905609, 0.163209468126297, -0.15807044506072998, 0.06166904419660568, 0.19947201013565063, -0.12878480553627014, 0.05594597011804581, 0.4422723352909088, 0.12363331019878387, 0.658336877822876, -0.38943225145339966, 0.13607588410377502, -0.09153780341148376, -0.10209251940250397, 0.3687801957130432, 0.18340659141540527, 0.2878904640674591, -0.033867351710796356, -0.19304108619689941, 0.1021689623594284, 0.09491316229104996, 0.3624897599220276, 0.19859111309051514, 0.26614609360694885, 0.5606938600540161, -0.038000475615262985, 0.14435744285583496, -0.446627676486969, 0.09693528711795807, -0.005416505038738251, 0.12869282066822052, -0.21907106041908264, 0.5480871200561523, -0.030643075704574585, 0.05995520204305649, -0.6599656343460083, -0.07595235109329224, -0.061331361532211304, -0.4759998321533203, 0.41962674260139465, 0.28286147117614746, -0.05150943994522095, -0.5488928556442261, 1.9277412342450591E-32, 0.7154653072357178, 0.1108129471540451, -0.3334502577781677, -0.20609945058822632, -0.2906189560890198, -0.26150184869766235, -0.47305747866630554, 0.8486889600753784, -0.5063749551773071, 0.3451826274394989, 0.2922421395778656, 0.05900464579463005, 0.8087124824523926, 0.1764662265777588, 0.3495272696018219, -0.30267125368118286, 0.7825678586959839, 0.05262847989797592, -0.09921899437904358, -0.07358206808567047, -0.045787446200847626, -0.2919553220272064, -0.2998042106628418, 0.04348424822092056, -0.08685550838708878, 0.09712917357683182, 0.12181355059146881, 0.11773265898227692, -0.6873822808265686, 0.08282069861888885, 0.15324944257736206, 0.14506453275680542, -0.24484997987747192, 0.038761526346206665, -0.08280248939990997, 0.259208083152771, -0.5238729119300842, -0.11132483929395676, -0.10212987661361694, -0.3144615888595581, -0.3014672100543976, -0.05989748239517212, -0.29788804054260254, 0.11964583396911621, -0.45797833800315857, -0.06935983896255493, -0.3306194245815277, 0.13273799419403076, -0.04599600285291672, -0.14883705973625183, -0.45789939165115356, -0.11871050298213959, 0.2795717716217041, -0.11676517128944397, -0.2816272974014282, 0.08109033107757568, -0.36435383558273315, -0.04471193999052048, 0.09410089254379272, -0.14707961678504944, 0.07663144171237946, 0.15032222867012024, 0.05714450776576996, 0.3621027171611786, 0.015303008258342743, -0.037699051201343536, 0.0952485203742981, 0.1853577345609665, 0.2172906994819641, -0.20831997692584991, -0.039577700197696686, 9.146854281425476E-4, -0.009355254471302032, -0.15621784329414368, -0.16056948900222778, 0.28451886773109436, -0.1653178632259369, -0.013847822323441505, 0.08461381494998932, 0.055920228362083435, 0.03320211172103882, 0.07723312079906464, 0.03188686817884445, 0.2131938636302948, 0.04141944646835327, 0.22996889054775238, 0.4667566418647766, 0.4122854471206665, -0.07477077841758728, -0.24557986855506897, -0.0630597323179245, 0.028048425912857056, -0.052856966853141785, 0.20153579115867615, -0.2922697365283966, -8.999384704111435E-8, -0.5075386166572571, 0.1369250863790512, -0.09299690276384354, 0.1815440058708191, 0.1562526524066925, 0.30048123002052307, -0.26956847310066223, -0.3370104730129242, -0.36198386549949646, 0.23416206240653992, 0.28535744547843933, 0.6102050542831421, -0.42666298151016235, -0.07155942171812057, 0.10520625114440918, 0.22606194019317627, -0.14201368391513824, 0.08313266187906265, -0.21228967607021332, 0.1146269217133522, -2.7830153703689575E-4, 0.05650404095649719, 0.14224818348884583, -0.3004201352596283, 0.16787773370742798, -0.4993351101875305, -0.08303780853748322, 0.14900757372379303, -0.10735764354467392, -0.43641558289527893, 0.200687438249588, 0.5935274958610535, -0.16064077615737915, 0.07283510267734528, -0.4371047616004944, -0.10681897401809692, 0.14303767681121826, 0.46642500162124634, 0.3937718868255615, -0.36684250831604004, -0.48044753074645996, 0.3514125347137451, -0.19211044907569885, -0.6079244613647461, -0.22953593730926514, 0.1862954944372177, 0.4388185441493988, -0.4181521236896515, 0.0019336938858032227, -0.23406507074832916, -0.4340296685695648, 0.15764650702476501, 0.42736876010894775, 0.1014644131064415, 0.5223942995071411, 0.6312138438224792, 0.003263518214225769, 0.2947225868701935, -0.08333297818899155, 0.19031479954719543, 0.1362544745206833, -0.131086528301239, 0.22298938035964966, 0.17298996448516846]"
      ]
     },
     "execution_count": 8,
     "metadata": {},
     "output_type": "execute_result"
    }
   ],
   "source": [
    "import org.springframework.ai.embedding.EmbeddingModel;\n",
    "var model = app.getBean(EmbeddingModel.class);\n",
    "model.embed(\"Hello World\");"
   ]
  },
  {
   "cell_type": "code",
   "execution_count": 9,
   "metadata": {},
   "outputs": [
    {
     "data": {
      "text/plain": [
       "[0.18317344784736633, -0.03303219750523567, 0.509656548500061, -0.0716996043920517, -0.29321762919425964, -0.3439341187477112, 0.5183614492416382, -0.5363336801528931, -0.3582697808742523, -0.2888084053993225, -0.08874968439340591, -0.15257827937602997, -0.15399040281772614, -0.180519700050354, -0.008928481489419937, -0.09243278950452805, 0.30338582396507263, -0.5649009346961975, -0.7345456480979919, -0.18324366211891174, 0.11387030780315399, 0.2951998710632324, -0.03293706476688385, 0.3965093493461609, -0.39608675241470337, 0.028525378555059433, 0.3334903419017792, 0.4080807566642761, 0.08179500699043274, -0.13933022320270538, 0.2384822964668274, 0.029904760420322418, 0.3230598568916321, 0.023913010954856873, 0.21026787161827087, 0.5828791856765747, -0.24053677916526794, -0.24509379267692566, -0.10948795080184937, -0.01229856163263321, 0.23731942474842072, -0.5487273335456848, -0.04797591269016266, -0.2077256739139557, 0.3372061252593994, 0.0646229237318039, 0.20259717106819153, 0.24853350222110748, 0.3146968185901642, -0.22861164808273315, 0.1276276558637619, -0.27791059017181396, 0.14457593858242035, -0.3837258517742157, 0.11599047482013702, 0.03338325023651123, -0.34554046392440796, 0.19331428408622742, 0.0971999317407608, -0.31559109687805176, -0.5321524143218994, 0.39665788412094116, -0.8286221027374268, -0.0660884827375412, 0.35056382417678833, -0.25752386450767517, -0.16813626885414124, 0.15383990108966827, 2.5609880685806274E-4, -0.25385114550590515, -0.3710784316062927, -0.1750364899635315, 0.007015468552708626, -0.02280353009700775, -0.11487189680337906, 0.2196544110774994, 0.1477697491645813, -0.2212788164615631, -0.05720789358019829, 0.03976503014564514, 0.37073326110839844, -0.5223251581192017, -0.20935693383216858, 0.25750163197517395, -0.03110557608306408, -0.519290566444397, 0.10216884315013885, 0.2782038450241089, -0.22104144096374512, -0.06243497133255005, -0.27825164794921875, 0.03056860715150833, -0.18861548602581024, 0.49428585171699524, -0.33412593603134155, -0.0982029065489769, 0.5467840433120728, 0.022253863513469696, -0.5233154892921448, 1.3697669506072998, -0.04475967586040497, 0.6735178232192993, -0.010663352906703949, 0.8396694660186768, -0.03994113951921463, -0.3468657433986664, -0.5265063643455505, 0.5052430033683777, 0.10634739696979523, -0.5779737234115601, 0.07302973419427872, -0.05822223424911499, -0.019850052893161774, 0.13234329223632812, 0.38597097992897034, -0.16315531730651855, -0.13387760519981384, -0.09596259146928787, 0.0051847174763679504, -0.13970434665679932, 0.16587774455547333, 0.0342603400349617, -0.10286670923233032, 0.14528362452983856, -0.435994952917099, 0.15042704343795776, -0.030088912695646286, -2.7692968887187295E-32, 0.012297295033931732, -0.03731251135468483, 0.6788393259048462, 0.6188291311264038, -0.31057465076446533, -0.2862527668476105, -0.3815494179725647, 0.14411132037639618, 0.4302513599395752, 0.26146602630615234, 0.4461292028427124, -0.05934279412031174, 0.12038560211658478, -0.2599283456802368, -0.2605058550834656, 0.7716866731643677, 0.06632842123508453, 0.12293669581413269, -0.39389902353286743, 0.35340383648872375, -0.6178539395332336, 0.11465031653642654, 0.36005765199661255, 0.2688382565975189, 0.06766676902770996, -0.2952461242675781, 0.08862616866827011, -0.48263001441955566, 0.823529064655304, 0.134744331240654, 0.21728268265724182, -0.07539486885070801, 0.17682486772537231, 0.3416765034198761, -0.09717514365911484, 0.30419230461120605, -0.13317722082138062, -0.7168324589729309, -0.18742460012435913, -0.019500330090522766, -0.16564959287643433, 0.10399404168128967, 0.24213889241218567, -0.44576412439346313, 0.33141782879829407, 0.19955310225486755, -0.35837599635124207, -0.2682293653488159, 0.10896185785531998, 0.19061657786369324, 0.0657869428396225, 0.0720217376947403, -1.14983332157135, 0.2608460783958435, -0.13036924600601196, -0.028561167418956757, 0.11529086530208588, 0.16070879995822906, 0.1872912347316742, 0.20923711359500885, 0.1521558165550232, 0.9293765425682068, -0.11100316047668457, 0.199112206697464, 0.1431669443845749, -0.37107425928115845, 0.3923411965370178, -0.12939493358135223, 0.013117171823978424, -0.17132648825645447, -0.2650059461593628, 0.19058240950107574, 0.7441008687019348, 0.006069883704185486, -0.03634761646389961, 0.29542022943496704, -0.22463423013687134, -0.005892068147659302, 0.2584627568721771, 0.0630774199962616, 0.002484247088432312, 0.2596225142478943, -0.16869518160820007, 0.050087444484233856, 0.7651309370994568, -0.07854132354259491, -0.08520582318305969, -0.6232220530509949, 0.13593025505542755, -0.15736573934555054, -0.650148868560791, -0.25065773725509644, 0.05294032022356987, -0.09450647979974747, -0.26993727684020996, 2.1725746670022637E-32, 0.6410427689552307, -0.1623089462518692, -0.05782265588641167, 0.06875959038734436, -0.45224031805992126, 0.05643452703952789, 0.34240010380744934, 0.600056529045105, -0.34079602360725403, 0.6579506397247314, -0.04845698922872543, -0.2602328062057495, 0.9427844285964966, 0.036864668130874634, 0.3933544456958771, -0.24519577622413635, 0.6271666884422302, 0.021563641726970673, -0.011667545884847641, 0.3976477384567261, 0.002536887302994728, -0.27000221610069275, -0.19794750213623047, 0.11867213994264603, 0.0190863199532032, -0.20115123689174652, -0.15259109437465668, 0.14586305618286133, -0.5441174507141113, -0.29517659544944763, -0.09635324776172638, 0.4884079694747925, -0.10781195014715195, -0.08255968987941742, -0.01964634470641613, 0.39532095193862915, 0.06673446297645569, -0.34106889367103577, 0.2726917862892151, -0.19449621438980103, -0.6289799213409424, -0.21849146485328674, 0.30098965764045715, 0.21862336993217468, 0.2605051100254059, -0.2777494490146637, -0.6430860161781311, -0.03267614543437958, -0.04473103955388069, 0.15505513548851013, -0.10549302399158478, 0.13664402067661285, -0.09267615526914597, 0.03548474609851837, -0.007258651778101921, 0.10259506106376648, -0.28306999802589417, -0.2675115764141083, -0.02389911562204361, -0.31595346331596375, -0.13908693194389343, 0.07331007719039917, 0.058381110429763794, 0.2577259838581085, -0.1512480229139328, 0.09718036651611328, 0.022239964455366135, 0.1981288492679596, 0.27490919828414917, 0.005002789199352264, 0.13206064701080322, -0.09310042858123779, 0.05128934234380722, -0.19607150554656982, -0.15239819884300232, -0.24360615015029907, 0.3036697506904602, -0.22674325108528137, 0.07077711820602417, 0.050943583250045776, 0.24539494514465332, 0.22674986720085144, 0.04308393597602844, 0.060370877385139465, 0.44510728120803833, -0.12558376789093018, 0.2919032871723175, 0.6159414649009705, 0.24550043046474457, -0.31554704904556274, 0.32842370867729187, 0.0828748345375061, -0.20924386382102966, -0.38078394532203674, -0.20119421184062958, -9.095752062648899E-8, -0.3408975899219513, 0.1142856776714325, -0.2182403951883316, 0.20092910528182983, 0.07458236813545227, 0.21652396023273468, -0.1036934182047844, 0.16215203702449799, -0.08735739439725876, 0.1288169026374817, 0.28556352853775024, 0.38078635931015015, -0.4596872329711914, -0.056950751692056656, 0.006528928875923157, 0.24704132974147797, -0.4307044744491577, -0.4230499267578125, -0.09047246724367142, 0.12714140117168427, -0.17824943363666534, 0.2279393970966339, 0.07194754481315613, -0.04026716202497482, 0.23738574981689453, -0.6188933849334717, 0.017408331856131554, 0.07922899723052979, -0.024906717240810394, -0.34466129541397095, -0.09224092215299606, 0.7582281827926636, 0.12843935191631317, 0.1719847172498703, -0.13695979118347168, -0.4067985415458679, 0.21072718501091003, 0.49647101759910583, 0.18501026928424835, -0.6194402575492859, -0.3575142025947571, -0.2468697428703308, -0.02519311010837555, -0.5271029472351074, 0.4144527316093445, 0.22895826399326324, 0.2900630533695221, -0.44276267290115356, -0.03217809647321701, -0.4136437177658081, -0.1262926608324051, 0.11410173773765564, 0.7298272848129272, 0.27372443675994873, 0.47102922201156616, 0.38249605894088745, -0.23888173699378967, -0.09626588970422745, -0.12444204837083817, 0.04873492568731308, 0.22613710165023804, 0.05946078896522522, -0.06193040311336517, 0.046254754066467285]"
      ]
     },
     "execution_count": 9,
     "metadata": {},
     "output_type": "execute_result"
    }
   ],
   "source": [
    "model.embed(\"Hello London\");"
   ]
  }
 ],
 "metadata": {
  "kernelspec": {
   "display_name": "java (Rapaio/j!)",
   "language": "java",
   "name": "jbang-rapaio"
  },
  "language_info": {
   "codemirror_mode": "java",
   "file_extension": ".jshell",
   "mimetype": "text/x-java-source",
   "name": "java",
   "nbconvert_exporter": "script",
   "pygments_lexer": "java",
   "version": "22.0.2+9"
  }
 },
 "nbformat": 4,
 "nbformat_minor": 2
}
