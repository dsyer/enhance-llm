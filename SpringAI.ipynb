{
 "cells": [
  {
   "cell_type": "markdown",
   "metadata": {},
   "source": [
    "Make sure Python and Jupyter are set up locally first (and if necessary relaunch VSCode). There is a `shell.nix` that does this for you if you have Nix installed, but it won't work with some of the Spring AI library dependencies (the ones that have native code extensions), so it's better to use a virtual env created from the global Python.\n",
    "\n",
    "```bash\n",
    "$ python3 -m venv .venv\n",
    "$ . .venv/bin/activate\n",
    "$ pip install jupyter ipykernel notebook\n",
    "```\n",
    "\n",
    "Then, select the Python interpreter in the top right corner of the VSCode editor - it should be `java (Rapaio/j!)`. If that is not available, install it with `jbang install-kernel@jupyter-java rapaio`. Make sure to get the latest version of `jbang` and also edit the `kernel.json` file in `~/.local/share/jupyter/kernels` to upgrade to version 2.0.0 and Java 22.\n",
    "\n",
    "```json\n",
    "{\n",
    "  \"argv\" : [\n",
    "    \"/home/dsyer/.sdkman/candidates/jbang/current/bin/jbang\",\n",
    "    \"--java\",\n",
    "    \"22\",\n",
    "...\n",
    "    \"io.github.padreati:rapaio-jupyter-kernel:2.0.0@fatjar\",\n",
    "    \"{connection_file}\"\n",
    "  ],\n",
    "...\n",
    "}\n",
    "```"
   ]
  },
  {
   "cell_type": "code",
   "execution_count": 3,
   "metadata": {},
   "outputs": [
    {
     "name": "stdout",
     "output_type": "stream",
     "text": [
      "\u001b[0m\u001b[32mAdd /home/dsyer/dev/scratch/enhance-llm/target/classes to classpath\n",
      "\u001b[0m"
     ]
    }
   ],
   "source": [
    "%classpath target/classes/"
   ]
  },
  {
   "cell_type": "code",
   "execution_count": 4,
   "metadata": {},
   "outputs": [
    {
     "name": "stdout",
     "output_type": "stream",
     "text": [
      "\u001b[0m\u001b[32mFound 103 jar files.\n",
      "\u001b[0m\u001b[0m\u001b[32mAdd /home/dsyer/dev/scratch/enhance-llm/target/lib/jackson-datatype-jdk8-2.17.2.jar to classpath\n",
      "\u001b[0m\u001b[0m\u001b[32mAdd /home/dsyer/dev/scratch/enhance-llm/target/lib/typetools-0.6.2.jar to classpath\n",
      "\u001b[0m\u001b[0m\u001b[32mAdd /home/dsyer/dev/scratch/enhance-llm/target/lib/spring-boot-starter-logging-3.3.2.jar to classpath\n",
      "\u001b[0m\u001b[0m\u001b[32mAdd /home/dsyer/dev/scratch/enhance-llm/target/lib/jackson-core-2.17.2.jar to classpath\n",
      "\u001b[0m\u001b[0m\u001b[32mAdd /home/dsyer/dev/scratch/enhance-llm/target/lib/logback-classic-1.5.6.jar to classpath\n",
      "\u001b[0m\u001b[0m\u001b[32mAdd /home/dsyer/dev/scratch/enhance-llm/target/lib/spring-ai-core-1.0.0-SNAPSHOT.jar to classpath\n",
      "\u001b[0m\u001b[0m\u001b[32mAdd /home/dsyer/dev/scratch/enhance-llm/target/lib/hamcrest-core-2.2.jar to classpath\n",
      "\u001b[0m\u001b[0m\u001b[32mAdd /home/dsyer/dev/scratch/enhance-llm/target/lib/jackson-databind-2.17.2.jar to classpath\n",
      "\u001b[0m\u001b[0m\u001b[32mAdd /home/dsyer/dev/scratch/enhance-llm/target/lib/jtokkit-1.1.0.jar to classpath\n",
      "\u001b[0m\u001b[0m\u001b[32mAdd /home/dsyer/dev/scratch/enhance-llm/target/lib/spring-ai-ollama-1.0.0-SNAPSHOT.jar to classpath\n",
      "\u001b[0m\u001b[0m\u001b[32mAdd /home/dsyer/dev/scratch/enhance-llm/target/lib/jsonschema-module-swagger-2-4.35.0.jar to classpath\n",
      "\u001b[0m\u001b[0m\u001b[32mAdd /home/dsyer/dev/scratch/enhance-llm/target/lib/xmlunit-core-2.9.1.jar to classpath\n",
      "\u001b[0m\u001b[0m\u001b[32mAdd /home/dsyer/dev/scratch/enhance-llm/target/lib/spring-retry-2.0.7.jar to classpath\n",
      "\u001b[0m\u001b[0m\u001b[32mAdd /home/dsyer/dev/scratch/enhance-llm/target/lib/tomcat-embed-websocket-10.1.26.jar to classpath\n",
      "\u001b[0m\u001b[0m\u001b[32mAdd /home/dsyer/dev/scratch/enhance-llm/target/lib/docker-java-transport-zerodep-3.3.6.jar to classpath\n",
      "\u001b[0m\u001b[0m\u001b[32mAdd /home/dsyer/dev/scratch/enhance-llm/target/lib/LatencyUtils-2.0.3.jar to classpath\n",
      "\u001b[0m\u001b[0m\u001b[32mAdd /home/dsyer/dev/scratch/enhance-llm/target/lib/jackson-datatype-jsr310-2.17.2.jar to classpath\n",
      "\u001b[0m\u001b[0m\u001b[32mAdd /home/dsyer/dev/scratch/enhance-llm/target/lib/spring-ai-chroma-store-1.0.0-SNAPSHOT.jar to classpath\n",
      "\u001b[0m\u001b[0m\u001b[32mAdd /home/dsyer/dev/scratch/enhance-llm/target/lib/opentest4j-1.3.0.jar to classpath\n",
      "\u001b[0m\u001b[0m\u001b[32mAdd /home/dsyer/dev/scratch/enhance-llm/target/lib/mockito-core-5.11.0.jar to classpath\n",
      "\u001b[0m\u001b[0m\u001b[32mAdd /home/dsyer/dev/scratch/enhance-llm/target/lib/spring-cloud-function-core-4.1.3.jar to classpath\n",
      "\u001b[0m\u001b[0m\u001b[32mAdd /home/dsyer/dev/scratch/enhance-llm/target/lib/spring-boot-devtools-3.3.2.jar to classpath\n",
      "\u001b[0m\u001b[0m\u001b[32mAdd /home/dsyer/dev/scratch/enhance-llm/target/lib/junit-jupiter-engine-5.10.3.jar to classpath\n",
      "\u001b[0m\u001b[0m\u001b[32mAdd /home/dsyer/dev/scratch/enhance-llm/target/lib/spring-messaging-6.1.11.jar to classpath\n",
      "\u001b[0m\u001b[0m\u001b[32mAdd /home/dsyer/dev/scratch/enhance-llm/target/lib/junit-4.13.2.jar to classpath\n",
      "\u001b[0m\u001b[0m\u001b[32mAdd /home/dsyer/dev/scratch/enhance-llm/target/lib/duct-tape-1.0.8.jar to classpath\n",
      "\u001b[0m\u001b[0m\u001b[32mAdd /home/dsyer/dev/scratch/enhance-llm/target/lib/json-20240303.jar to classpath\n",
      "\u001b[0m\u001b[0m\u001b[32mAdd /home/dsyer/dev/scratch/enhance-llm/target/lib/junit-platform-engine-1.10.3.jar to classpath\n",
      "\u001b[0m\u001b[0m\u001b[32mAdd /home/dsyer/dev/scratch/enhance-llm/target/lib/spring-boot-3.3.2.jar to classpath\n",
      "\u001b[0m\u001b[0m\u001b[32mAdd /home/dsyer/dev/scratch/enhance-llm/target/lib/spring-aop-6.1.11.jar to classpath\n",
      "\u001b[0m\u001b[0m\u001b[32mAdd /home/dsyer/dev/scratch/enhance-llm/target/lib/jsonschema-generator-4.35.0.jar to classpath\n",
      "\u001b[0m\u001b[0m\u001b[32mAdd /home/dsyer/dev/scratch/enhance-llm/target/lib/junit-jupiter-api-5.10.3.jar to classpath\n",
      "\u001b[0m\u001b[0m\u001b[32mAdd /home/dsyer/dev/scratch/enhance-llm/target/lib/objenesis-3.3.jar to classpath\n",
      "\u001b[0m\u001b[0m\u001b[32mAdd /home/dsyer/dev/scratch/enhance-llm/target/lib/jakarta.activation-api-2.1.3.jar to classpath\n",
      "\u001b[0m\u001b[0m\u001b[32mAdd /home/dsyer/dev/scratch/enhance-llm/target/lib/docker-java-api-3.3.6.jar to classpath\n",
      "\u001b[0m\u001b[0m\u001b[32mAdd /home/dsyer/dev/scratch/enhance-llm/target/lib/spring-expression-6.1.11.jar to classpath\n",
      "\u001b[0m\u001b[0m\u001b[32mAdd /home/dsyer/dev/scratch/enhance-llm/target/lib/micrometer-commons-1.13.2.jar to classpath\n",
      "\u001b[0m\u001b[0m\u001b[32mAdd /home/dsyer/dev/scratch/enhance-llm/target/lib/spring-ai-chroma-store-spring-boot-starter-1.0.0-SNAPSHOT.jar to classpath\n",
      "\u001b[0m\u001b[0m\u001b[32mAdd /home/dsyer/dev/scratch/enhance-llm/target/lib/jackson-module-parameter-names-2.17.2.jar to classpath\n",
      "\u001b[0m\u001b[0m\u001b[32mAdd /home/dsyer/dev/scratch/enhance-llm/target/lib/byte-buddy-agent-1.14.18.jar to classpath\n",
      "\u001b[0m\u001b[0m\u001b[32mAdd /home/dsyer/dev/scratch/enhance-llm/target/lib/jul-to-slf4j-2.0.13.jar to classpath\n",
      "\u001b[0m\u001b[0m\u001b[32mAdd /home/dsyer/dev/scratch/enhance-llm/target/lib/reactive-streams-1.0.4.jar to classpath\n",
      "\u001b[0m\u001b[0m\u001b[32mAdd /home/dsyer/dev/scratch/enhance-llm/target/lib/tomcat-embed-el-10.1.26.jar to classpath\n",
      "\u001b[0m\u001b[0m\u001b[32mAdd /home/dsyer/dev/scratch/enhance-llm/target/lib/spring-boot-test-autoconfigure-3.3.2.jar to classpath\n",
      "\u001b[0m\u001b[0m\u001b[32mAdd /home/dsyer/dev/scratch/enhance-llm/target/lib/jackson-annotations-2.17.2.jar to classpath\n",
      "\u001b[0m\u001b[0m\u001b[32mAdd /home/dsyer/dev/scratch/enhance-llm/target/lib/spring-beans-6.1.11.jar to classpath\n",
      "\u001b[0m\u001b[0m\u001b[32mAdd /home/dsyer/dev/scratch/enhance-llm/target/lib/ST4-4.3.4.jar to classpath\n",
      "\u001b[0m\u001b[0m\u001b[32mAdd /home/dsyer/dev/scratch/enhance-llm/target/lib/antlr4-runtime-4.13.1.jar to classpath\n",
      "\u001b[0m\u001b[0m\u001b[32mAdd /home/dsyer/dev/scratch/enhance-llm/target/lib/jna-5.13.0.jar to classpath\n",
      "\u001b[0m\u001b[0m\u001b[32mAdd /home/dsyer/dev/scratch/enhance-llm/target/lib/annotations-17.0.0.jar to classpath\n",
      "\u001b[0m\u001b[0m\u001b[32mAdd /home/dsyer/dev/scratch/enhance-llm/target/lib/awaitility-4.2.1.jar to classpath\n",
      "\u001b[0m\u001b[0m\u001b[32mAdd /home/dsyer/dev/scratch/enhance-llm/target/lib/tomcat-embed-core-10.1.26.jar to classpath\n",
      "\u001b[0m\u001b[0m\u001b[32mAdd /home/dsyer/dev/scratch/enhance-llm/target/lib/spring-boot-starter-json-3.3.2.jar to classpath\n",
      "\u001b[0m\u001b[0m\u001b[32mAdd /home/dsyer/dev/scratch/enhance-llm/target/lib/docker-java-transport-3.3.6.jar to classpath\n",
      "\u001b[0m\u001b[0m\u001b[32mAdd /home/dsyer/dev/scratch/enhance-llm/target/lib/android-json-0.0.20131108.vaadin1.jar to classpath\n",
      "\u001b[0m\u001b[0m\u001b[32mAdd /home/dsyer/dev/scratch/enhance-llm/target/lib/spring-boot-starter-3.3.2.jar to classpath\n",
      "\u001b[0m\u001b[0m\u001b[32mAdd /home/dsyer/dev/scratch/enhance-llm/target/lib/spring-test-6.1.11.jar to classpath\n",
      "\u001b[0m\u001b[0m\u001b[32mAdd /home/dsyer/dev/scratch/enhance-llm/target/lib/spring-boot-starter-web-3.3.2.jar to classpath\n",
      "\u001b[0m\u001b[0m\u001b[32mAdd /home/dsyer/dev/scratch/enhance-llm/target/lib/jakarta.xml.bind-api-4.0.2.jar to classpath\n",
      "\u001b[0m\u001b[0m\u001b[32mAdd /home/dsyer/dev/scratch/enhance-llm/target/lib/spring-context-6.1.11.jar to classpath\n",
      "\u001b[0m\u001b[0m\u001b[32mAdd /home/dsyer/dev/scratch/enhance-llm/target/lib/reactor-core-3.6.8.jar to classpath\n",
      "\u001b[0m\u001b[0m\u001b[32mAdd /home/dsyer/dev/scratch/enhance-llm/target/lib/classmate-1.7.0.jar to classpath\n",
      "\u001b[0m\u001b[0m\u001b[32mAdd /home/dsyer/dev/scratch/enhance-llm/target/lib/spring-boot-starter-test-3.3.2.jar to classpath\n",
      "\u001b[0m\u001b[0m\u001b[32mAdd /home/dsyer/dev/scratch/enhance-llm/target/lib/testcontainers-1.19.8.jar to classpath\n",
      "\u001b[0m\u001b[0m\u001b[32mAdd /home/dsyer/dev/scratch/enhance-llm/target/lib/hamcrest-2.2.jar to classpath\n",
      "\u001b[0m\u001b[0m\u001b[32mAdd /home/dsyer/dev/scratch/enhance-llm/target/lib/log4j-api-2.23.1.jar to classpath\n",
      "\u001b[0m\u001b[0m\u001b[32mAdd /home/dsyer/dev/scratch/enhance-llm/target/lib/apiguardian-api-1.1.2.jar to classpath\n",
      "\u001b[0m\u001b[0m\u001b[32mAdd /home/dsyer/dev/scratch/enhance-llm/target/lib/json-smart-2.5.1.jar to classpath\n",
      "\u001b[0m\u001b[0m\u001b[32mAdd /home/dsyer/dev/scratch/enhance-llm/target/lib/byte-buddy-1.14.18.jar to classpath\n",
      "\u001b[0m\u001b[0m\u001b[32mAdd /home/dsyer/dev/scratch/enhance-llm/target/lib/commons-compress-1.24.0.jar to classpath\n",
      "\u001b[0m\u001b[0m\u001b[32mAdd /home/dsyer/dev/scratch/enhance-llm/target/lib/spring-boot-testcontainers-3.3.2.jar to classpath\n",
      "\u001b[0m\u001b[0m\u001b[32mAdd /home/dsyer/dev/scratch/enhance-llm/target/lib/spring-boot-test-3.3.2.jar to classpath\n",
      "\u001b[0m\u001b[0m\u001b[32mAdd /home/dsyer/dev/scratch/enhance-llm/target/lib/snakeyaml-2.2.jar to classpath\n",
      "\u001b[0m\u001b[0m\u001b[32mAdd /home/dsyer/dev/scratch/enhance-llm/target/lib/jsonschema-module-jackson-4.35.0.jar to classpath\n",
      "\u001b[0m\u001b[0m\u001b[32mAdd /home/dsyer/dev/scratch/enhance-llm/target/lib/swagger-annotations-2.2.20.jar to classpath\n",
      "\u001b[0m\u001b[0m\u001b[32mAdd /home/dsyer/dev/scratch/enhance-llm/target/lib/junit-platform-commons-1.10.3.jar to classpath\n",
      "\u001b[0m\u001b[0m\u001b[32mAdd /home/dsyer/dev/scratch/enhance-llm/target/lib/json-path-2.9.0.jar to classpath\n",
      "\u001b[0m\u001b[0m\u001b[32mAdd /home/dsyer/dev/scratch/enhance-llm/target/lib/spring-jcl-6.1.11.jar to classpath\n",
      "\u001b[0m\u001b[0m\u001b[32mAdd /home/dsyer/dev/scratch/enhance-llm/target/lib/spring-ai-spring-boot-autoconfigure-1.0.0-SNAPSHOT.jar to classpath\n",
      "\u001b[0m\u001b[0m\u001b[32mAdd /home/dsyer/dev/scratch/enhance-llm/target/lib/antlr-runtime-3.5.3.jar to classpath\n",
      "\u001b[0m\u001b[0m\u001b[32mAdd /home/dsyer/dev/scratch/enhance-llm/target/lib/mockito-junit-jupiter-5.11.0.jar to classpath\n",
      "\u001b[0m\u001b[0m\u001b[32mAdd /home/dsyer/dev/scratch/enhance-llm/target/lib/spring-ai-retry-1.0.0-SNAPSHOT.jar to classpath\n",
      "\u001b[0m\u001b[0m\u001b[32mAdd /home/dsyer/dev/scratch/enhance-llm/target/lib/log4j-to-slf4j-2.23.1.jar to classpath\n",
      "\u001b[0m\u001b[0m\u001b[32mAdd /home/dsyer/dev/scratch/enhance-llm/target/lib/micrometer-observation-1.13.2.jar to classpath\n",
      "\u001b[0m\u001b[0m\u001b[32mAdd /home/dsyer/dev/scratch/enhance-llm/target/lib/HdrHistogram-2.2.2.jar to classpath\n",
      "\u001b[0m\u001b[0m\u001b[32mAdd /home/dsyer/dev/scratch/enhance-llm/target/lib/micrometer-core-1.13.2.jar to classpath\n",
      "\u001b[0m\u001b[0m\u001b[32mAdd /home/dsyer/dev/scratch/enhance-llm/target/lib/spring-cloud-function-context-4.1.3.jar to classpath\n",
      "\u001b[0m\u001b[0m\u001b[32mAdd /home/dsyer/dev/scratch/enhance-llm/target/lib/spring-web-6.1.11.jar to classpath\n",
      "\u001b[0m\u001b[0m\u001b[32mAdd /home/dsyer/dev/scratch/enhance-llm/target/lib/spring-core-6.1.11.jar to classpath\n",
      "\u001b[0m\u001b[0m\u001b[32mAdd /home/dsyer/dev/scratch/enhance-llm/target/lib/jakarta.annotation-api-2.1.1.jar to classpath\n",
      "\u001b[0m\u001b[0m\u001b[32mAdd /home/dsyer/dev/scratch/enhance-llm/target/lib/assertj-core-3.25.3.jar to classpath\n",
      "\u001b[0m\u001b[0m\u001b[32mAdd /home/dsyer/dev/scratch/enhance-llm/target/lib/spring-webflux-6.1.11.jar to classpath\n",
      "\u001b[0m\u001b[0m\u001b[32mAdd /home/dsyer/dev/scratch/enhance-llm/target/lib/accessors-smart-2.5.1.jar to classpath\n",
      "\u001b[0m\u001b[0m\u001b[32mAdd /home/dsyer/dev/scratch/enhance-llm/target/lib/spring-ai-ollama-spring-boot-starter-1.0.0-SNAPSHOT.jar to classpath\n",
      "\u001b[0m\u001b[0m\u001b[32mAdd /home/dsyer/dev/scratch/enhance-llm/target/lib/slf4j-api-2.0.13.jar to classpath\n",
      "\u001b[0m\u001b[0m\u001b[32mAdd /home/dsyer/dev/scratch/enhance-llm/target/lib/spring-webmvc-6.1.11.jar to classpath\n",
      "\u001b[0m\u001b[0m\u001b[32mAdd /home/dsyer/dev/scratch/enhance-llm/target/lib/spring-boot-autoconfigure-3.3.2.jar to classpath\n",
      "\u001b[0m\u001b[0m\u001b[32mAdd /home/dsyer/dev/scratch/enhance-llm/target/lib/logback-core-1.5.6.jar to classpath\n",
      "\u001b[0m\u001b[0m\u001b[32mAdd /home/dsyer/dev/scratch/enhance-llm/target/lib/junit-jupiter-params-5.10.3.jar to classpath\n",
      "\u001b[0m\u001b[0m\u001b[32mAdd /home/dsyer/dev/scratch/enhance-llm/target/lib/junit-jupiter-5.10.3.jar to classpath\n",
      "\u001b[0m\u001b[0m\u001b[32mAdd /home/dsyer/dev/scratch/enhance-llm/target/lib/spring-boot-starter-tomcat-3.3.2.jar to classpath\n",
      "\u001b[0m\u001b[0m\u001b[32mAdd /home/dsyer/dev/scratch/enhance-llm/target/lib/asm-9.6.jar to classpath\n",
      "\u001b[0m\u001b[0m\u001b[32mAdd /home/dsyer/dev/scratch/enhance-llm/target/lib/jsonassert-1.5.3.jar to classpath\n",
      "\u001b[0m"
     ]
    }
   ],
   "source": [
    "%%jars\n",
    "target/lib"
   ]
  },
  {
   "cell_type": "code",
   "execution_count": 5,
   "metadata": {},
   "outputs": [],
   "source": [
    "import org.springframework.boot.logging.*;\n",
    "// Make sure Spring Boot is using the Java Logging System not Logback\n",
    "System.setProperty(LoggingSystem.SYSTEM_PROPERTY, \"org.springframework.boot.logging.java.JavaLoggingSystem\");"
   ]
  },
  {
   "cell_type": "markdown",
   "metadata": {},
   "source": [
    "Run the vector store in the background:\n",
    "\n",
    "```bash\n",
    "$ docker run -it --rm --name chroma -p 8000:8000 ghcr.io/chroma-core/chroma:0.4.15\n",
    "```\n",
    "\n",
    "and then the app will be able to connect to it when it starts up."
   ]
  },
  {
   "cell_type": "markdown",
   "metadata": {},
   "source": [
    "Models prepared in onxx format:\n",
    "\n",
    "```bash\n",
    "$ pip install optimum onnx onnxruntime\n",
    "$ optimum-cli export onnx --model sentence-transformers/multi-qa-MiniLM-L6-cos-v1 onnx-output\n",
    "```"
   ]
  },
  {
   "cell_type": "code",
   "execution_count": 10,
   "metadata": {},
   "outputs": [
    {
     "name": "stdout",
     "output_type": "stream",
     "text": [
      "total 102052\n",
      "-rw-r--r-- 1 dsyer dsyer      697 Aug  5 09:55 config.json\n",
      "-rw-r--r-- 1 dsyer dsyer 13085339 Aug  5 09:59 databricks-dolly-15k.jsonl\n",
      "-rw-r--r-- 1 dsyer dsyer 90447733 Aug  5 09:55 model.onnx\n",
      "-rw-r--r-- 1 dsyer dsyer      695 Aug  5 09:55 special_tokens_map.json\n",
      "-rw-r--r-- 1 dsyer dsyer   711661 Aug  5 09:55 tokenizer.json\n",
      "-rw-r--r-- 1 dsyer dsyer     1433 Aug  5 09:55 tokenizer_config.json\n",
      "-rw-r--r-- 1 dsyer dsyer   231508 Aug  5 09:55 vocab.txt\n"
     ]
    }
   ],
   "source": [
    "%%bash\n",
    "ls -l onnx-output"
   ]
  },
  {
   "cell_type": "markdown",
   "metadata": {},
   "source": [
    "Make sure ollama is running in the background and the model is available before we start the app:\n",
    "\n",
    "```bash\n",
    "$ ollama serve\n",
    "$ ollama pull mistral\n",
    "$ ollama pull albertogg/multi-qa-minilm-l6-cos-v1\n",
    "```"
   ]
  },
  {
   "cell_type": "code",
   "execution_count": 6,
   "metadata": {},
   "outputs": [
    {
     "name": "stdout",
     "output_type": "stream",
     "text": [
      "\n",
      "  .   ____          _            __ _ _\n",
      " /\\\\ / ___'_ __ _ _(_)_ __  __ _ \\ \\ \\ \\\n",
      "( ( )\\___ | '_ | '_| | '_ \\/ _` | \\ \\ \\ \\\n",
      " \\\\/  ___)| |_)| | | | | || (_| |  ) ) ) )\n",
      "  '  |____| .__|_| |_|_| |_\\__, | / / / /\n",
      " =========|_|==============|___/=/_/_/_/\n",
      "\n",
      " :: Spring Boot ::                (v3.3.2)\n",
      "\n"
     ]
    },
    {
     "name": "stderr",
     "output_type": "stream",
     "text": [
      "[Engine-thread-0] INFO org.springframework.boot.SpringApplication - Starting application using Java 22.0.2 with PID 527994 (started by dsyer in /home/dsyer/dev/scratch/enhance-llm)\n",
      "[Engine-thread-0] INFO org.springframework.boot.SpringApplication - No active profile set, falling back to 1 default profile: \"default\"\n",
      "[Engine-thread-0] INFO org.springframework.boot.devtools.env.DevToolsPropertyDefaultsPostProcessor - For additional web related logging consider setting the 'logging.level.web' property to 'DEBUG'\n",
      "[Engine-thread-0] INFO org.springframework.boot.web.embedded.tomcat.TomcatWebServer - Tomcat initialized with port 8080 (http)\n",
      "[Engine-thread-0] INFO org.springframework.boot.web.servlet.context.ServletWebServerApplicationContext - Root WebApplicationContext: initialization completed in 1454 ms\n",
      "[Engine-thread-0] INFO org.springframework.boot.web.embedded.tomcat.TomcatWebServer - Tomcat started on port 8080 (http) with context path '/'\n",
      "[Engine-thread-0] INFO org.springframework.boot.SpringApplication - Started application in 3.396 seconds (process running for 958.079)\n"
     ]
    }
   ],
   "source": [
    "import org.springframework.boot.SpringApplication;\n",
    "import com.example.DemoApplication;\n",
    "var app = SpringApplication.run(DemoApplication.class, new String[] {});"
   ]
  },
  {
   "cell_type": "code",
   "execution_count": 7,
   "metadata": {},
   "outputs": [
    {
     "data": {
      "text/plain": [
       "[0.006631332, 0.046368703, 0.040787365, 0.0068707983, 5.2580936E-4, -0.06577722, 0.08494715, -0.05236606, -0.059159886, 0.015687117, 0.024459207, -0.09621295, 0.0137719605, 0.0038830542, 0.079698086, 0.019421214, 0.017994735, -0.056662295, -0.11073014, -0.035871916, -0.022705115, -0.0013302569, 0.06894718, 0.038753763, -0.039282657, 0.0033189429, 0.006297793, 0.04922261, 0.06391162, -0.0035785448, -0.05908602, -0.011911157, 0.12739654, -0.013358063, -0.016495287, 0.03261636, 0.011256272, -0.08177851, -0.046204865, 0.011682691, -6.965274E-4, -0.024080234, 0.02508672, 0.078631684, -0.01314921, -9.546165E-5, -0.03294358, 0.00206195, 0.030726533, 0.026222486, -0.009433887, -0.017831437, -0.009996171, -0.004444101, 0.0787742, -0.01740961, 0.013069235, -0.0259258, 0.063523404, -0.032665376, -0.096209645, -0.019935789, 0.010766199, 0.055098467, -0.0014918122, -0.059977274, -0.04793592, 0.030429062, -0.120088845, -0.062409397, -0.09021954, 0.012253389, 0.03912556, 0.05785284, 0.020256057, -0.032668784, -0.0026284643, 0.014787679, -0.0029805992, -2.1247494E-4, 0.056938525, -0.056106675, 0.07151972, -0.054899037, 0.01519923, 0.015398881, 0.015488534, 0.07384471, 0.0022770553, -0.1051079, -0.09901764, 0.013958618, 0.0475123, 0.07197765, -0.059654433, -8.0435147E-4, 0.05439925, 0.014100641, -0.10289811, 0.22073738, 0.0570863, 0.024551205, 0.0143536655, 0.013694579, -0.03048647, 0.03367361, -0.06290024, 0.09662145, 0.02452854, -0.049869485, -0.07574938, -0.058105946, 0.030780483, -0.055832956, 0.08236068, -0.060337454, 0.058474854, 0.03125467, 0.078224696, -0.009252191, 0.092321, -0.046826847, 0.004717731, -0.020586248, -0.095573835, -0.018727947, 0.06573559, 1.0310436E-30, 0.08073674, 0.054171905, -0.009111171, 0.15412423, 0.032331415, -0.038662978, -0.0508258, -0.0017333771, -0.05551918, -0.014434644, -0.024145165, 0.0039456813, -0.048072837, -0.0020748181, 0.02383069, -0.03810787, 0.011577909, -0.007964886, -0.04157595, 0.10259964, -0.012208781, -0.012730136, 0.02526502, 0.057944957, 0.012333897, -0.0062741395, 0.028794972, -0.0974066, 0.12818374, 0.03368149, -0.0047474783, -0.057014238, -0.02135841, -0.034101382, 0.017784284, -0.04116931, -0.03070541, -0.0957899, -0.035846997, -0.07866609, -0.08026771, 0.03570538, -0.013920292, -0.021589236, -0.013886526, 0.025609404, -0.020961147, -0.033571545, 0.07123681, 0.08685013, -0.0502752, 0.023339551, -0.11409229, 0.08827026, -0.044414736, 0.021276245, 0.011093209, 0.030365344, -0.01757268, 0.028852751, -0.0020806633, 0.024252074, 0.009716742, -5.254225E-4, 0.03400329, -0.0041380785, -0.039104115, 0.0313366, 0.014274438, 0.0049755685, 0.00624775, -0.049396142, 0.018672632, 0.061710563, -0.019019447, 0.0062988997, 0.12389675, -0.07812135, 0.0014967573, -0.016605562, 0.07322549, 0.08908431, 0.026759526, -0.0012864858, 0.040815882, -0.044518575, 0.020740306, -0.05284057, -0.016671881, 0.047256388, -0.13911015, 0.044551633, 0.060650237, -0.028602425, -0.11953766, -2.438185E-33, 0.05801766, 0.006848724, -0.121337295, -0.0281675, -0.050188188, -0.011690105, 0.017699933, 0.14652465, -0.07356407, 0.02313027, 0.03742333, -0.005900945, 0.06238193, 0.045914892, 0.02514227, -0.052583374, 0.14025252, 0.002298498, -0.03168354, 0.10464942, -0.028081909, -8.282209E-4, -0.0643013, -0.04995876, -0.05537514, 0.01886144, 0.029700553, 0.002829728, -0.06743806, -0.007598272, -0.029452747, 0.027659934, -0.0707068, 0.06469405, -0.01515574, 0.03766384, -0.046493407, -0.04025036, -5.0625025E-4, 0.010671123, -0.024201946, -0.012768449, 0.01259242, 0.06465861, -0.047813192, 0.017495994, -0.0970309, 0.0053452756, -0.030480301, 0.033006065, 0.0018642889, 0.0057526664, -0.016708445, -0.066571735, -0.059850305, -0.04975544, -0.102311134, -0.032100137, 0.05041553, 0.009362236, -0.064444795, 0.036208212, -0.0058058663, 0.030939702, -0.025372658, -0.008062165, 0.0405759, 0.04952814, 0.039096072, -0.044995133, -0.037590615, -0.03355608, -0.08844691, -0.055564705, 0.010194748, 0.007883612, -0.023481943, -0.035971224, -0.05458906, -0.0076762964, 0.071669586, 0.06309686, -0.006281701, 0.029812839, 0.009217921, -0.027302636, 0.007186887, 0.028625732, -0.054958448, 0.0099879615, 0.03509494, 0.11289751, -0.04232868, 0.05535008, -0.017451158, -3.8141306E-33, -0.04305441, 0.038095962, 0.04686812, -0.013787717, 0.02961396, -2.5358915E-4, 0.039217092, -0.13524495, -0.02692399, 0.053698994, 0.055703603, -0.004032691, -0.057575777, 0.021917807, -0.017241118, 0.04495276, -0.015929304, 0.031218566, -0.04269253, -0.010965995, 0.0019281341, 0.024796931, 0.05896875, 0.013604882, -0.019108765, -0.040207617, 0.021297518, -0.047975007, 0.005928319, -0.087121144, 0.030420648, 0.065805614, -0.029362882, -0.0124332355, 0.060338497, 0.030432, -0.039417114, -0.014826093, -0.01957198, -0.08628139, -0.009374806, 0.021770813, 0.0065889056, -0.028938875, 0.009119411, 0.087569326, 0.060363952, -0.11727928, -0.029752124, -0.015728235, -0.054994855, 0.014262729, 0.033685368, 0.013742069, 0.024854198, 0.07193641, 0.01618892, 0.0047817794, 0.01437262, 0.057107013, 0.058870446, -0.010925397, -0.009582527, -0.0071913693]"
      ]
     },
     "execution_count": 7,
     "metadata": {},
     "output_type": "execute_result"
    }
   ],
   "source": [
    "import org.springframework.ai.embedding.EmbeddingModel;\n",
    "var model = app.getBean(EmbeddingModel.class);\n",
    "model.embed(\"Hello World\");"
   ]
  },
  {
   "cell_type": "code",
   "execution_count": 8,
   "metadata": {},
   "outputs": [
    {
     "data": {
      "text/plain": [
       "[0.06458347, -0.016361302, 0.10603686, -0.037863392, -0.058281023, -0.015379198, 0.09285434, -0.10891376, -0.09566109, -0.0056571118, 0.023809595, -0.048426945, -0.009564186, -0.030932844, 0.054733466, 0.024749363, 0.029845512, -0.077863194, -0.079561055, -0.056448657, 0.006628047, -0.009469016, 0.03259563, 0.06378993, -0.049305998, -0.0056157745, 0.021606663, 0.06963346, 0.060883693, -0.0072005694, -0.045955893, -0.06279615, 0.08838572, -0.0099392915, 0.042798094, 0.076203585, 0.046086285, -0.0962945, -0.04446693, -0.008219454, -0.028764637, -0.06651775, 0.030907819, 0.03594228, 0.025715964, 0.010163348, 0.013631136, -0.01376544, 0.034846872, -0.011912927, 0.06949194, -0.0053752363, 0.026269503, -0.072157405, 0.030910658, -0.023688449, -0.036038045, 0.002724903, 0.04858974, -0.01754085, -0.113722526, 0.061265346, -0.05241749, 0.04245531, -1.3573108E-4, -0.025376935, -0.058399178, 0.01386713, -0.08140539, -0.0076985164, -0.083254546, -0.027383072, 0.039830126, 0.012757815, -0.018389178, 0.011645414, -0.009484991, 0.018863363, -0.027949529, -0.008806935, 0.048183236, -0.059216797, 0.028127609, -0.0035743914, -0.0076030334, -0.06440601, 0.019769771, 0.059226766, 0.0033666068, -0.09367516, -0.08279198, 0.049457375, -0.029227687, 0.11414159, -0.069173925, -0.0059792213, 0.06262745, 0.02218785, -0.07569095, 0.17786105, -0.013010639, 0.10427743, 0.0067487513, 0.04893283, -0.050945785, -0.07047105, -0.06744508, 0.08036363, 0.07668369, -0.1051122, -0.041176997, -0.031202987, 0.008865451, -0.028042275, 0.063967586, -0.04450806, 0.013433097, -0.0067295977, 0.1162121, -0.032613333, 0.06917451, -0.010697582, -0.017908283, -0.018183151, -0.12606193, -0.021195477, 0.035295837, 1.2267802E-30, 0.026174707, 0.029490363, 0.017023794, 0.11591729, 0.04282289, -0.04449189, -0.03029438, 0.03546971, -0.02333834, -0.019020382, 0.02849037, -0.010794051, 0.016518686, -0.03577861, -0.028540364, -0.027111515, 0.06676142, 0.008698826, -0.08046377, 0.07915808, -0.06527898, -0.023156337, 0.03839807, 0.044521388, 0.004377032, -0.014022211, 0.016198179, -0.058040712, 0.16527714, 0.024643943, 0.0011933146, -0.02610678, -0.036822796, 0.010752146, -0.019066224, -0.021496387, -0.07499322, -0.09274981, -0.015276574, -0.05113543, -0.091038555, 0.007027167, 0.015342444, -0.06147698, 0.007614659, 0.042043585, -0.05680739, -0.07955834, 0.07977155, 0.04158055, -0.0010496123, -0.008204863, -0.17618017, 0.08136347, -0.040384565, 0.026354112, 0.027138874, 0.05661447, 0.045826748, 0.008544749, 2.8935604E-4, 0.09757665, -0.01859639, -0.044973876, 0.08045459, -0.057598535, 0.003499931, 0.01903386, 0.008627142, -0.025849383, -0.036712915, 0.015670203, 0.07382095, 0.030777706, -0.03675105, 0.021689577, 0.038964123, -0.015353983, 0.037077576, 0.014090421, 0.082387276, 0.05918316, 0.011377238, -4.1173032E-4, 0.09543918, -0.032814633, 0.026775727, -0.03079939, 0.0024223407, 0.055520445, -0.12721454, -7.351074E-4, -0.00593026, -0.0013421491, -0.06369028, -1.8378735E-33, 0.093402386, -0.0019530458, -0.102714546, 0.015155569, -0.06464983, 0.035092223, 0.083859555, 0.101749845, -0.035436016, 0.04479281, -0.0018307961, -0.014094598, 0.06434674, 0.025894174, 0.055290125, -0.044051606, 0.07110132, -0.012218896, -0.022415632, 0.13471697, -0.016164232, 0.002979385, -0.07057705, -0.01852021, -0.040388715, 0.0040225335, -0.0030746055, 0.007566111, -0.059807923, -0.039288934, -0.028940186, 0.036678236, -0.039384913, 0.045248818, -0.0037100266, 0.026601493, 0.011517552, -0.037619766, 0.080692746, 0.050653372, -0.03204351, -0.0056697447, 0.08237603, 0.04736299, 0.027924048, -0.02351218, -0.102475435, -0.037641272, -0.026219837, 0.041095413, 0.0522645, 0.036763053, -0.033935815, -0.0675728, -0.013653186, -0.024200682, -0.1129363, -0.029445404, 0.031570684, -0.010535727, -0.053349108, 0.051648304, 0.016721696, 0.020926027, -0.028935492, 0.024637328, 0.027248068, 0.006435719, 0.046335023, -0.034632865, -0.06517586, -0.048466176, -0.024320932, -0.06707301, -0.0210085, -0.041600224, 0.02909233, -0.044700388, -0.058914974, -0.011945713, 0.07814496, 0.06299844, 0.00793021, 0.017281534, -0.0023735354, -0.007081437, -0.0053858664, 0.0864502, -0.018297972, -0.029519059, 0.07280251, 0.096354745, -0.014558433, 0.008781218, -0.003268456, -3.9769424E-33, -0.05241788, -0.012737415, 0.027060932, -0.039197408, 0.040572118, -0.013722148, 0.02990243, -0.08274041, 0.0026421328, 0.03284745, 0.06050235, -0.03539061, -0.10332504, -0.025187507, -0.03477466, 0.03141092, -0.023744978, 0.0019585416, -0.03724208, -0.0017795869, -0.013037824, 0.057730384, 0.0672428, 0.02382128, -0.022703331, -0.056238256, 0.060410377, -0.030500336, -0.02010878, -0.0813437, -0.0030255006, 0.07197718, 0.0069467574, 0.011748509, 0.073076166, 0.002984457, -0.0071739806, 0.0059677125, -0.02443267, -0.07816708, -0.011845489, -0.053405803, -0.001271788, -0.029668706, 0.0783108, 0.07977328, 0.0327261, -0.07604242, -0.03138008, -0.03992723, -0.02709253, -0.0036217642, 0.057717677, 0.04976477, 0.004949151, 0.070330404, 0.004667989, -0.02386892, 0.046070475, 0.03136624, 0.0738174, 0.021222968, -0.018822286, 0.004601467]"
      ]
     },
     "execution_count": 8,
     "metadata": {},
     "output_type": "execute_result"
    }
   ],
   "source": [
    "model.embed(\"Hello London\");"
   ]
  },
  {
   "cell_type": "code",
   "execution_count": 9,
   "metadata": {},
   "outputs": [],
   "source": [
    "import com.fasterxml.jackson.databind.ObjectMapper;\n",
    "var mapper = app.getBean(ObjectMapper.class)"
   ]
  },
  {
   "cell_type": "code",
   "execution_count": 10,
   "metadata": {},
   "outputs": [],
   "source": [
    "var reader = mapper.readerFor(Map.class)"
   ]
  },
  {
   "cell_type": "code",
   "execution_count": 11,
   "metadata": {},
   "outputs": [
    {
     "name": "stdout",
     "output_type": "stream",
     "text": [
      "How to make a cup of tea?\n",
      "What is the capital of France?\n",
      "What is the capital of Germany?\n",
      "What is the capital of Italy?\n",
      "What is the capital of Spain?\n",
      "What is the capital of Portugal?\n",
      "What is the capital of Greece?\n",
      "What is the capital of Turkey?\n",
      "What is the capital of Egypt?\n",
      "What is the capital of South Africa?\n",
      "What is the capital of Nigeria?\n",
      "What is the capital of Kenya?\n",
      "What is the capital of India?\n",
      "What is the capital of China?\n",
      "What is the capital of Japan?\n",
      "What is the capital of Australia?\n",
      "What is the capital of New Zealand?\n",
      "What is the capital of Canada?\n",
      "What is the capital of the United States?\n",
      "What is the capital of Brazil?\n",
      "What is the capital of Argentina?\n",
      "What is the capital of Chile?\n",
      "What is the capital of Peru?\n"
     ]
    }
   ],
   "source": [
    "reader.readValues(new File(\"./data/lines.jsonl\")).forEachRemaining(line -> System.out.println(((Map)line).get(\"instruction\")));"
   ]
  },
  {
   "cell_type": "code",
   "execution_count": 11,
   "metadata": {},
   "outputs": [],
   "source": [
    "import org.springframework.ai.document.Document;\n",
    "import org.springframework.ai.vectorstore.VectorStore;\n",
    "\n",
    "var store = app.getBean(VectorStore.class);"
   ]
  },
  {
   "cell_type": "markdown",
   "metadata": {},
   "source": [
    "The dataset is stored in huggingface in `git-lfs` format, so you need to install `git-lfs` and then run `git lfs install && git lfs checkout` in the repo to download the data. Or download it manually from the [Hugging Face website](https://huggingface.co/datasets/databricks-dolly-15k). Or use the HugingFace CLI:\n",
    "\n",
    "```bash\n",
    "$ huggingface-cli download --local-dir onnx-output --repo-type dataset databricks/databricks-dolly-15k databricks-dolly-15k.jsonl\n",
    "```"
   ]
  },
  {
   "cell_type": "code",
   "execution_count": 22,
   "metadata": {},
   "outputs": [
    {
     "name": "stdout",
     "output_type": "stream",
     "text": [
      "# What is the name of the major school of praxiology not developed by Ludwig von Mises #\n"
     ]
    },
    {
     "data": {
      "text/plain": [
       "[-0.044746906, 0.047134504, -0.04623948, -0.06385579, 0.027357563, -0.047465317, -0.047038995, -6.0633157E-4, 0.0029515678, 0.045316417, 0.11086147, 0.030434445, 0.024808273, 0.068183094, 0.009494174, -0.048304096, -0.169649, 0.04671276, 0.0072783567, 0.021201445, 0.015346749, -3.8867255E-4, 0.05662299, -0.06803544, -0.04754187, -0.04719966, 0.0068565058, -0.12369442, 0.02150668, 0.082350686, 0.117165335, 7.757759E-4, 0.05959012, -0.05126287, -0.02298231, 0.049385548, -0.030956045, -0.025784196, -0.0055763526, 0.102654465, -0.06630733, 0.06330042, -0.0064713904, 0.024719935, 0.0017623303, 0.004001801, -0.001520359, 0.052901354, -0.05284587, 0.009933864, -0.062846184, -0.049428843, -0.024127558, -0.037834942, -0.05986368, 0.041079156, -0.014312983, -0.0206921, -0.077737786, -0.07682506, 0.048469182, -0.074984916, 0.021692768, 0.00532916, -0.07346126, 0.034263004, -0.013353929, 0.01582272, 0.050458718, 0.0038830114, 0.0158525, -0.056407448, 0.066383384, 0.012203042, 0.020378161, -0.08235654, 0.0022697835, -0.0021388112, -0.03858838, -0.034066815, 0.043167815, 0.030701753, -0.0713877, 0.005894555, -0.0375059, 0.011586278, -0.053951185, 0.003645664, 0.06459392, -0.0024267798, -0.018816156, -0.09670127, -0.019681303, 0.027094845, -0.013756883, 0.07385634, -0.08618492, 0.0387906, 0.02621663, -0.012778057, 0.038699992, 0.057599276, -0.01969306, 0.04668419, 0.034915272, -0.03497834, -0.0476337, -0.03568827, -0.055404883, 0.01909545, -0.042385988, 0.012219628, 0.025045685, -0.023857983, 0.034330383, 0.008946505, 8.491408E-4, 0.0035848673, 0.062146325, -0.084597446, -0.028622108, -0.026950434, -0.022878952, 0.0020943116, 0.071789585, 0.022898762, -0.070094384, -1.4683945E-31, 0.0030329244, -0.023434062, 0.059277024, 0.03745941, -0.058630526, 0.0037980105, 0.031178793, -0.0655493, 0.051407162, 0.05333082, -0.04599658, 0.06151388, 0.051175624, 0.04582415, -0.04232485, 0.056435887, -0.013246455, 0.043815084, -0.025355557, 0.052387595, 0.035969328, 0.07355096, 0.0370646, -0.09149826, -0.0063010273, 0.11180218, 0.046844818, 0.01604274, 0.009261046, -0.052567378, 0.022051627, -0.02788057, -0.059772156, 0.046304394, 0.0956033, 0.03234452, -0.0016304025, -0.024242735, -0.02432921, 0.0049138726, 0.0026971279, 0.024158545, 0.049038406, -0.04604688, 0.013960647, 0.050725766, 0.03152509, -0.034985423, 0.017007697, -0.048868075, 0.03311797, 0.036079068, 0.10480616, -0.11459979, 0.0065272995, -0.008657047, -0.0086185075, 0.08782762, -0.0567121, -0.045296885, 7.876376E-4, 0.027330354, 0.059449304, 0.026737707, 0.050165232, -0.008388494, -0.070617996, -0.04073881, 0.04880452, 0.044534426, 0.01874754, 0.06706692, -0.06250111, -0.057024784, 0.095178336, 0.009869766, -0.010989728, -0.08263278, -0.011741654, -0.042247243, -0.07389004, -0.06897709, -0.057279065, -0.030681776, 0.031859417, 0.03258242, -0.07945681, 0.09810391, -0.011020955, -0.0174398, -0.004954799, 0.041264813, -0.08988413, 0.08634077, -0.047715258, -6.0740078E-33, -0.050185893, 0.0067308666, -0.0040631657, -0.037876327, -0.008413246, 0.013463982, -0.101020806, 0.008391146, 0.031869408, -0.010316446, -0.031531055, 0.011333524, 0.025546148, 0.0890698, -0.005873359, 0.030526774, 0.030009191, -0.02693335, -0.13382608, 0.01918762, -0.018825542, 0.13016506, -0.09910494, -0.007971471, 1.8287242E-4, -0.016519818, 0.08195068, -0.020166818, 0.028504541, -0.04168911, 0.022722391, 0.005356203, -0.021365859, 0.04320012, 0.05912383, 0.034573145, -0.0056819962, 0.056357775, -0.025369152, -0.09055402, -0.073436975, 0.029962376, -0.009194218, -0.08341447, 0.032850306, -0.022884848, -0.042646352, -0.031133257, -0.06029673, 0.04855417, -0.16640083, -0.020747587, 0.084026344, -0.058060013, 0.10843702, -0.051333085, -0.071951814, -0.078204274, 0.014090788, 0.028194183, 0.012256212, 0.0074828714, -0.05534047, 0.08780908, -0.01467452, 0.003353446, -0.075440936, 0.046293486, -0.038646813, -0.030267311, 0.09717478, 0.11413899, -0.030053528, -0.042344525, 0.005333208, 0.048459433, -0.016221926, -0.015207774, -0.03979633, -0.005599962, 0.011688207, -0.13683316, 0.023725081, -0.004081453, -0.027829926, 0.06755321, -0.05234419, -4.5854555E-4, 0.043841194, -0.05776013, 0.067252435, 0.04793711, 0.0014345263, 0.05134081, -0.022248825, -4.8197373E-33, -0.036016837, 6.361149E-4, 3.8665723E-5, 0.02259372, -0.048037928, 0.026506077, -0.00789236, 0.024196401, -0.09516277, 0.063289195, -0.096352525, 0.06683941, 0.08105682, 0.073256284, 0.0061820876, -0.04069149, 0.038265906, 0.046248976, 0.046061844, 0.03376467, 0.118879296, -0.07693182, 0.024947906, -0.020482838, -5.9895765E-4, -0.014634737, 0.019177021, -0.037924096, -0.031139039, -0.11710211, -0.02466262, 0.0047558355, -0.024039637, 0.0050622365, 0.008304382, -0.009972177, 0.094433226, 0.02789043, 0.05667866, -0.025740484, -0.008460297, -0.006638048, 0.041942775, 0.019521514, -0.008835652, 0.065936595, -0.0028548779, -0.014268672, 0.039563604, 0.049244326, -0.027473945, 0.08141521, -0.05694249, -0.099318705, 0.05849507, 0.013379056, -0.03722263, 0.03736776, -0.12277987, 0.022051683, 0.04412936, 0.012553334, -0.037301358, 4.2305194E-4]"
      ]
     },
     "execution_count": 22,
     "metadata": {},
     "output_type": "execute_result"
    }
   ],
   "source": [
    "String instruction = \"What is the name of the major school of praxiology not developed by Ludwig von Mises\";\n",
    "String context = \"In philosophy, praxeology or praxiology (/\\u02ccpr\\u00e6ksi\\u02c8\\u0252l\\u0259d\\u0292i/; from Ancient Greek \\u03c0\\u03c1\\u1fb6\\u03be\\u03b9\\u03c2 (praxis) 'deed, action', and -\\u03bb\\u03bf\\u03b3\\u03af\\u03b1 (-logia) 'study of') is the theory of human action, based on the notion that humans engage in purposeful behavior, contrary to reflexive behavior and other unintentional behavior.\\n\\nFrench social philosopher Alfred Espinas gave the term its modern meaning, and praxeology was developed independently by two principal groups: the Austrian school, led by Ludwig von Mises, and the Polish school, led by Tadeusz Kotarbi\\u0144ski.\";\n",
    "System.out.println(\"# %s #\".formatted(instruction));\n",
    "model.embed(\"Content: %s? %s\".formatted(instruction, context));"
   ]
  },
  {
   "cell_type": "code",
   "execution_count": 18,
   "metadata": {},
   "outputs": [],
   "source": [
    "import org.springframework.util.StringUtils;\n",
    "List<Document> list = new ArrayList<>();\n",
    "reader.readValues(new File(\"./onnx-output/databricks-dolly-15k.jsonl\")).forEachRemaining(line -> {\n",
    "\tMap map = (Map) line;\n",
    "\tif (\"closed_qa\".equals(map.get(\"category\"))) {\n",
    "\t\tString instruction = ((String) map.get(\"instruction\")).trim();\n",
    "\t\tif (StringUtils.hasText(instruction) && !instruction.endsWith(\"?\") && !instruction.endsWith(\".\") && !instruction.endsWith(\"!\")) {\n",
    "\t\t\tinstruction = instruction + \"?\";\n",
    "\t\t}\n",
    "\t\tString context = ((String) map.get(\"context\")).trim();\n",
    "\t\tif (StringUtils.hasText(context)) {\n",
    "\t\t\tDocument doc = new Document(\"Content: %s%s\".formatted(StringUtils.hasText(instruction) ? instruction + \" \" : \"\", context));\n",
    "\t\t\tlist.add(doc);\n",
    "\t\t}\n",
    "\t}\n",
    "});\n",
    "store.add(list);"
   ]
  },
  {
   "cell_type": "code",
   "execution_count": 19,
   "metadata": {},
   "outputs": [
    {
     "data": {
      "text/plain": [
       "[Document{id='8d005303-0b28-4b91-ba7b-ff64762c7708', metadata={distance=0.2492783}, content='Content: When was Tomoaki Komorida born? Komorida was born in Kumamoto Prefecture on July 10, 1981. After graduating from high school, he joined the J1 League club Avispa Fukuoka in 2000. Although he debuted as a midfielder in 2001, he did not play much and the club was relegated to the J2 League at the end of the 2001 season. In 2002, he moved to the J2 club Oita Trinita. He became a regular player as a defensive midfielder and the club won the championship in 2002 and was promoted in 2003. He played many matches until 2005. In September 2005, he moved to the J2 club Montedio Yamagata. In 2006, he moved to the J2 club Vissel Kobe. Although he became a regular player as a defensive midfielder, his gradually was played less during the summer. In 2007, he moved to the Japan Football League club Rosso Kumamoto (later Roasso Kumamoto) based in his local region. He played as a regular player and the club was promoted to J2 in 2008. Although he did not play as much, he still played in many matches. In 2010, he moved to Indonesia and joined Persela Lamongan. In July 2010, he returned to Japan and joined the J2 club Giravanz Kitakyushu. He played often as a defensive midfielder and center back until 2012 when he retired.', media=[]}, Document{id='721785d4-5c7d-4576-8e9e-5088e9ea63aa', metadata={distance=0.5459358}, content='Content: Where was Ostad Elahi born and who was his father Elahi was born in Jeyhunabad, a small Kurdish village near the eponymous capital of Kermanshah Province. His father, Hajj Nematollah (1871–1920), was a mystic and poet who was a leader of the Ahl-e Haqq and revered as a saint. From early childhood, he led an ascetic, secluded life of rigorous discipline under his father's supervision with a special focus on mysticism, music, and ethics. In addition to religious and moral instruction, he received the classical education of the time. During study and contemplation in his youth, he established the basis of his philosophical and spiritual reflections.', media=[]}, Document{id='caaf477e-a19a-4e09-b6ab-ac89d60cb252', metadata={distance=0.6058854}, content='Content: Where was Anne Zohra Berrached born? The daughter of an Algerian father, Anne Zohra Berrached was born and raised in the GDR. Following specialized secondary school in art, she earned a university degree in social pedagogy. Anne Zohra Berrached worked for two years in London as a drama teacher before spending one year abroad in Cameroon and Spain.', media=[]}, Document{id='2d3b84c1-2100-4708-bd1d-a23c2de43261', metadata={distance=0.62422526}, content='Content: When was Genghis Khan born? Genghis Khan (born Temüjin; c. 1162 — 25 August 1227), also known as Chinggis Khan, was the founder and first khagan of the Mongol Empire, which later became the largest contiguous land empire in history. Having spent the majority of his life uniting the Mongol tribes, he launched a series of military campaigns which conquered large parts of China and Central Asia.', media=[]}]"
      ]
     },
     "execution_count": 19,
     "metadata": {},
     "output_type": "execute_result"
    }
   ],
   "source": [
    "store.similaritySearch(\"When was Tomoaki Komorida born?\")"
   ]
  },
  {
   "cell_type": "code",
   "execution_count": 12,
   "metadata": {},
   "outputs": [],
   "source": [
    "import org.springframework.ai.chat.model.ChatModel;\n",
    "var chat = app.getBean(ChatModel.class);"
   ]
  },
  {
   "cell_type": "code",
   "execution_count": 12,
   "metadata": {},
   "outputs": [
    {
     "data": {
      "text/plain": [
       " I cannot find the specific birth date for Tomoaki Komoroda, as I am not a database and do not have real-time access to personal information. However, according to some online sources, he was born on October 29, 1978, which would make him 43 years old as of the year 2022. If you require further details or confirmation, I recommend checking reliable databases such as IMDb or Wikipedia for accurate information."
      ]
     },
     "execution_count": 12,
     "metadata": {},
     "output_type": "execute_result"
    }
   ],
   "source": [
    "chat.call(\"When was Tomoaki Komorida born?\")"
   ]
  },
  {
   "cell_type": "code",
   "execution_count": 13,
   "metadata": {},
   "outputs": [],
   "source": [
    "import org.springframework.ai.chat.client.ChatClient;\n",
    "import org.springframework.ai.chat.client.advisor.QuestionAnswerAdvisor;\n",
    "import org.springframework.ai.vectorstore.SearchRequest;\n",
    "var builder = app.getBean(ChatClient.Builder.class);\n",
    "var response = builder.build().prompt()\n",
    "\t.advisors(new QuestionAnswerAdvisor(store, SearchRequest.defaults().withTopK(1)))\n",
    "\t.user(\"When was Tomoaki Komorida born?\")\n",
    "\t.call();"
   ]
  },
  {
   "cell_type": "code",
   "execution_count": 14,
   "metadata": {},
   "outputs": [
    {
     "data": {
      "text/plain": [
       " Tomoaki Komorida was born on July 10, 1981, in Kumamoto Prefecture, as per the provided context."
      ]
     },
     "execution_count": 14,
     "metadata": {},
     "output_type": "execute_result"
    }
   ],
   "source": [
    "response.content()"
   ]
  },
  {
   "cell_type": "code",
   "execution_count": 15,
   "metadata": {},
   "outputs": [
    {
     "name": "stdout",
     "output_type": "stream",
     "text": [
      " Tomoaki Komorida was born on July 10, 1981, as mentioned in the provided context.\n",
      " Tomoaki Komorida was born on July 10, 1981.\n",
      " Based on the provided context, Tomoaki Komorida was born on July 10, 1981.\n",
      " Tomoaki Komorida was born on July 10, 1981.\n",
      " Tomoaki Komorida was born on July 10, 1981.\n",
      " Based on the provided context, Tomoaki Komorida was born on July 10, 1981.\n",
      " Tomoaki Komorida was born on July 10, 1981.\n",
      " Tomoaki Komorida was born on July 10, 1981.\n",
      " Tomoaki Komorida was born on July 10, 1981.\n",
      " Tomoaki Komorida was born on July 10, 1981, as mentioned in the context provided.\n"
     ]
    }
   ],
   "source": [
    "for (int i=0; i<10; i++) {\n",
    "\tSystem.out.println(response.content());\n",
    "}"
   ]
  },
  {
   "cell_type": "code",
   "execution_count": 30,
   "metadata": {},
   "outputs": [
    {
     "name": "stderr",
     "output_type": "stream",
     "text": [
      "[Engine-thread-5] INFO org.springframework.ai.transformer.splitter.TextSplitter - Splitting up document into 2 chunks.\n"
     ]
    },
    {
     "data": {
      "text/plain": [
       "[Document{id='dc6b45a0-5014-4231-8b1a-654e1dd80999', metadata={}, content='Komorida was born in Kumamoto Prefecture on July 10, 1981. After graduating from high school, he joined the J1 League club Avispa Fukuoka in 2000. Although he debuted as a midfielder in 2001, he did not play much and the club was relegated to the J2 League at the end of the 2001 season. In 2002, he moved to the J2 club Oita Trinita. He became a regular player as a defensive midfielder and the club won the championship in 2002 and was promoted in 2003. He played many matches until 2005. In September 2005, he moved to the J2 club Montedio Yamagata. In 2006, he moved to the J2 club Vissel Kobe. Although he became a regular player as a defensive midfielder, his gradually was played less during the summer.', media=[]}, Document{id='38c4969b-5cb7-49f3-a360-3894caf38bc6', metadata={}, content='In 2007, he moved to the Japan Football League club Rosso Kumamoto (later Roasso Kumamoto) based in his local region. He played as a regular player and the club was promoted to J2 in 2008. Although he did not play as much, he still played in many matches. In 2010, he moved to Indonesia and joined Persela Lamongan. In July 2010, he returned to Japan and joined the J2 club Giravanz Kitakyushu. He played often as a defensive midfielder and center back until 2012 when he retired.', media=[]}]"
      ]
     },
     "execution_count": 30,
     "metadata": {},
     "output_type": "execute_result"
    }
   ],
   "source": [
    "import org.springframework.ai.transformer.splitter.TokenTextSplitter;\n",
    "TokenTextSplitter splitter = new TokenTextSplitter(200, 50, 5, 400, true);\n",
    "splitter.split(new Document(\"Komorida was born in Kumamoto Prefecture on July 10, 1981. After graduating from high school, he joined the J1 League club Avispa Fukuoka in 2000. Although he debuted as a midfielder in 2001, he did not play much and the club was relegated to the J2 League at the end of the 2001 season. In 2002, he moved to the J2 club Oita Trinita. He became a regular player as a defensive midfielder and the club won the championship in 2002 and was promoted in 2003. He played many matches until 2005. In September 2005, he moved to the J2 club Montedio Yamagata. In 2006, he moved to the J2 club Vissel Kobe. Although he became a regular player as a defensive midfielder, his gradually was played less during the summer. In 2007, he moved to the Japan Football League club Rosso Kumamoto (later Roasso Kumamoto) based in his local region. He played as a regular player and the club was promoted to J2 in 2008. Although he did not play as much, he still played in many matches. In 2010, he moved to Indonesia and joined Persela Lamongan. In July 2010, he returned to Japan and joined the J2 club Giravanz Kitakyushu. He played often as a defensive midfielder and center back until 2012 when he retired.\"))"
   ]
  }
 ],
 "metadata": {
  "kernelspec": {
   "display_name": "java (Rapaio/j!)",
   "language": "java",
   "name": "jbang-rapaio"
  },
  "language_info": {
   "codemirror_mode": "java",
   "file_extension": ".jshell",
   "mimetype": "text/x-java-source",
   "name": "java",
   "nbconvert_exporter": "script",
   "pygments_lexer": "java",
   "version": "22.0.2+9"
  }
 },
 "nbformat": 4,
 "nbformat_minor": 2
}
